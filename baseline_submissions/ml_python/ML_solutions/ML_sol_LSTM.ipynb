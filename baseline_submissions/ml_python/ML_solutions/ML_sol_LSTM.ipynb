{
 "cells": [
  {
   "cell_type": "code",
   "execution_count": 1,
   "id": "89e8e946-b917-4ad0-9360-138bba78d7f4",
   "metadata": {},
   "outputs": [],
   "source": [
    "import numpy as np\n",
    "import pandas as pd\n",
    "from pathlib import Path\n",
    "import pickle\n",
    "from sklearn.model_selection import train_test_split\n",
    "from sklearn.preprocessing import StandardScaler, LabelEncoder\n",
    "from sklearn.metrics import accuracy_score\n",
    "import sys\n",
    "sys.path.append('../..') \n",
    "import evaluation\n",
    "sys.path.append('../') \n",
    "import utils"
   ]
  },
  {
   "cell_type": "code",
   "execution_count": 2,
   "id": "977b46f6-e4fd-4462-845b-b307dd2a079d",
   "metadata": {},
   "outputs": [
    {
     "name": "stdout",
     "output_type": "stream",
     "text": [
      "WARNING:tensorflow:From D:\\Miniconda\\envs\\SPLID\\lib\\site-packages\\keras\\src\\losses.py:2976: The name tf.losses.sparse_softmax_cross_entropy is deprecated. Please use tf.compat.v1.losses.sparse_softmax_cross_entropy instead.\n",
      "\n"
     ]
    }
   ],
   "source": [
    "from tensorflow.keras.models import Sequential\n",
    "from tensorflow.keras.layers import LSTM, Dense, Dropout\n",
    "from tensorflow.keras.utils import to_categorical"
   ]
  },
  {
   "cell_type": "code",
   "execution_count": 3,
   "id": "971d8499-7a11-4f19-b4a9-a18d7755efe9",
   "metadata": {},
   "outputs": [],
   "source": [
    "from fastcore.basics import Path, AttrDict"
   ]
  },
  {
   "cell_type": "code",
   "execution_count": 4,
   "id": "4f3272e9-6f37-46b9-9be6-6e6008af318b",
   "metadata": {},
   "outputs": [],
   "source": [
    "import matplotlib.pyplot as plt"
   ]
  },
  {
   "cell_type": "code",
   "execution_count": 5,
   "id": "4ebe791f-759e-4c0b-b755-6e06ae018fff",
   "metadata": {},
   "outputs": [],
   "source": [
    "config = AttrDict(\n",
    "    challenge_data_dir = Path('D:/SPLID/splid-devkit/data').expanduser(),\n",
    "    valid_ratio = 0.1,\n",
    "    lag_steps = 5\n",
    ")"
   ]
  },
  {
   "cell_type": "code",
   "execution_count": 6,
   "id": "4605671f-0c4b-4c62-9a38-f21b26836b18",
   "metadata": {},
   "outputs": [],
   "source": [
    "# Define the list of feature columns\n",
    "feature_cols = [\n",
    "    \"Eccentricity\",\n",
    "    \"Semimajor Axis (m)\",\n",
    "    \"Inclination (deg)\",\n",
    "    \"RAAN (deg)\",\n",
    "    \"Argument of Periapsis (deg)\",\n",
    "    \"True Anomaly (deg)\",\n",
    "    \"Latitude (deg)\",\n",
    "    \"Longitude (deg)\",\n",
    "    \"Altitude (m)\",\n",
    "    \"X (m)\",\n",
    "    \"Y (m)\",\n",
    "    \"Z (m)\",\n",
    "    \"Vx (m/s)\",\n",
    "    \"Vy (m/s)\",\n",
    "    \"Vz (m/s)\"\n",
    "]"
   ]
  },
  {
   "cell_type": "code",
   "execution_count": 7,
   "id": "9b4f5b80-3261-45dd-a77b-6aabd757b858",
   "metadata": {},
   "outputs": [
    {
     "data": {
      "text/html": [
       "<div>\n",
       "<style scoped>\n",
       "    .dataframe tbody tr th:only-of-type {\n",
       "        vertical-align: middle;\n",
       "    }\n",
       "\n",
       "    .dataframe tbody tr th {\n",
       "        vertical-align: top;\n",
       "    }\n",
       "\n",
       "    .dataframe thead th {\n",
       "        text-align: right;\n",
       "    }\n",
       "</style>\n",
       "<table border=\"1\" class=\"dataframe\">\n",
       "  <thead>\n",
       "    <tr style=\"text-align: right;\">\n",
       "      <th></th>\n",
       "      <th>ObjectID</th>\n",
       "      <th>TimeIndex</th>\n",
       "      <th>EW</th>\n",
       "      <th>NS</th>\n",
       "    </tr>\n",
       "  </thead>\n",
       "  <tbody>\n",
       "    <tr>\n",
       "      <th>0</th>\n",
       "      <td>1</td>\n",
       "      <td>0</td>\n",
       "      <td>SS-HK</td>\n",
       "      <td>SS-HK</td>\n",
       "    </tr>\n",
       "    <tr>\n",
       "      <th>1</th>\n",
       "      <td>1</td>\n",
       "      <td>1</td>\n",
       "      <td>SS-HK</td>\n",
       "      <td>SS-HK</td>\n",
       "    </tr>\n",
       "    <tr>\n",
       "      <th>0</th>\n",
       "      <td>10</td>\n",
       "      <td>0</td>\n",
       "      <td>SS-CK</td>\n",
       "      <td>SS-NK</td>\n",
       "    </tr>\n",
       "    <tr>\n",
       "      <th>1</th>\n",
       "      <td>10</td>\n",
       "      <td>1</td>\n",
       "      <td>SS-CK</td>\n",
       "      <td>SS-NK</td>\n",
       "    </tr>\n",
       "    <tr>\n",
       "      <th>0</th>\n",
       "      <td>100</td>\n",
       "      <td>0</td>\n",
       "      <td>SS-CK</td>\n",
       "      <td>SS-CK</td>\n",
       "    </tr>\n",
       "    <tr>\n",
       "      <th>1</th>\n",
       "      <td>100</td>\n",
       "      <td>1</td>\n",
       "      <td>SS-CK</td>\n",
       "      <td>SS-CK</td>\n",
       "    </tr>\n",
       "    <tr>\n",
       "      <th>0</th>\n",
       "      <td>101</td>\n",
       "      <td>0</td>\n",
       "      <td>SS-CK</td>\n",
       "      <td>SS-NK</td>\n",
       "    </tr>\n",
       "    <tr>\n",
       "      <th>1</th>\n",
       "      <td>101</td>\n",
       "      <td>1</td>\n",
       "      <td>SS-CK</td>\n",
       "      <td>SS-NK</td>\n",
       "    </tr>\n",
       "    <tr>\n",
       "      <th>0</th>\n",
       "      <td>102</td>\n",
       "      <td>0</td>\n",
       "      <td>SS-CK</td>\n",
       "      <td>SS-NK</td>\n",
       "    </tr>\n",
       "    <tr>\n",
       "      <th>1</th>\n",
       "      <td>102</td>\n",
       "      <td>1</td>\n",
       "      <td>SS-CK</td>\n",
       "      <td>SS-NK</td>\n",
       "    </tr>\n",
       "  </tbody>\n",
       "</table>\n",
       "</div>"
      ],
      "text/plain": [
       "   ObjectID  TimeIndex     EW     NS\n",
       "0         1          0  SS-HK  SS-HK\n",
       "1         1          1  SS-HK  SS-HK\n",
       "0        10          0  SS-CK  SS-NK\n",
       "1        10          1  SS-CK  SS-NK\n",
       "0       100          0  SS-CK  SS-CK\n",
       "1       100          1  SS-CK  SS-CK\n",
       "0       101          0  SS-CK  SS-NK\n",
       "1       101          1  SS-CK  SS-NK\n",
       "0       102          0  SS-CK  SS-NK\n",
       "1       102          1  SS-CK  SS-NK"
      ]
     },
     "execution_count": 7,
     "metadata": {},
     "output_type": "execute_result"
    }
   ],
   "source": [
    "# Define the directory paths\n",
    "train_data_dir = config.challenge_data_dir / \"train\"\n",
    "\n",
    "# Load the ground truth data\n",
    "ground_truth = pd.read_csv(config.challenge_data_dir / 'train_labels.csv')\n",
    "\n",
    "# Apply the function to the ground truth data\n",
    "data, updated_feature_cols = utils.tabularize_data(train_data_dir, feature_cols, \n",
    "                                          ground_truth, lag_steps=config.lag_steps)\n",
    "\n",
    "# For each ObjectID, show the first rows of the columns TimeIndex, ObjectID, EW, and NS\n",
    "data[['ObjectID', 'TimeIndex' , 'EW', 'NS']].groupby('ObjectID').head(2).head(10)"
   ]
  },
  {
   "cell_type": "code",
   "execution_count": 8,
   "id": "ce04f90c-7b8f-4a58-8b08-88a77dd4c51a",
   "metadata": {},
   "outputs": [
    {
     "name": "stdout",
     "output_type": "stream",
     "text": [
      "Number of objects in the training set: 225\n",
      "Number of objects in the validation set: 25\n"
     ]
    }
   ],
   "source": [
    "# Create a validation set without mixing the ObjectIDs\n",
    "object_ids = data['ObjectID'].unique()\n",
    "train_ids, valid_ids = train_test_split(object_ids,\n",
    "                                        test_size=config.valid_ratio, \n",
    "                                        random_state=42)\n",
    "\n",
    "train_data = data[data['ObjectID'].isin(train_ids)].copy()\n",
    "valid_data = data[data['ObjectID'].isin(valid_ids)].copy()\n",
    "\n",
    "ground_truth_train = ground_truth[ground_truth['ObjectID'].isin(train_ids)].copy()\n",
    "ground_truth_valid = ground_truth[ground_truth['ObjectID'].isin(valid_ids)].copy()\n",
    "\n",
    "# Count the number of objects in the training and validation sets\n",
    "print('Number of objects in the training set:', len(train_data['ObjectID'].unique()))\n",
    "print('Number of objects in the validation set:', len(valid_data['ObjectID'].unique()))"
   ]
  },
  {
   "cell_type": "code",
   "execution_count": 27,
   "id": "8a9429da-5c32-4f76-b720-c3fe906f50fb",
   "metadata": {},
   "outputs": [
    {
     "data": {
      "text/plain": [
       "array(['SS-HK', 'SS-CK', 'SS-NK', 'AD-NK', 'IK-HK', 'IK-CK', 'ID-NK',\n",
       "       'SS-EK', 'IK-EK'], dtype=object)"
      ]
     },
     "execution_count": 27,
     "metadata": {},
     "output_type": "execute_result"
    }
   ],
   "source": [
    "train_data['EW'].unique()"
   ]
  },
  {
   "cell_type": "code",
   "execution_count": 29,
   "id": "980a3a9d-f5b1-4a26-8f6b-bb8178169f08",
   "metadata": {},
   "outputs": [
    {
     "data": {
      "text/plain": [
       "array(['SS-NK', 'AD-NK', 'IK-HK', 'SS-CK', 'ID-NK', 'SS-HK', 'SS-EK'],\n",
       "      dtype=object)"
      ]
     },
     "execution_count": 29,
     "metadata": {},
     "output_type": "execute_result"
    }
   ],
   "source": [
    "valid_data['EW'].unique()"
   ]
  },
  {
   "cell_type": "code",
   "execution_count": 9,
   "id": "305b6007-cf4d-47b2-97ad-e484864e7579",
   "metadata": {},
   "outputs": [],
   "source": [
    "# Convert categorical data to numerical data\n",
    "le_EW = LabelEncoder()\n",
    "le_NS = LabelEncoder()\n",
    "\n",
    "# Encode the 'EW' and 'NS' columns\n",
    "train_data['EW_encoded'] = le_EW.fit_transform(train_data['EW'])\n",
    "train_data['NS_encoded'] = le_NS.fit_transform(train_data['NS'])"
   ]
  },
  {
   "cell_type": "code",
   "execution_count": 32,
   "id": "a363e76e-b972-442b-9f04-d96b4f73e5eb",
   "metadata": {},
   "outputs": [
    {
     "data": {
      "text/html": [
       "<div>\n",
       "<style scoped>\n",
       "    .dataframe tbody tr th:only-of-type {\n",
       "        vertical-align: middle;\n",
       "    }\n",
       "\n",
       "    .dataframe tbody tr th {\n",
       "        vertical-align: top;\n",
       "    }\n",
       "\n",
       "    .dataframe thead th {\n",
       "        text-align: right;\n",
       "    }\n",
       "</style>\n",
       "<table border=\"1\" class=\"dataframe\">\n",
       "  <thead>\n",
       "    <tr style=\"text-align: right;\">\n",
       "      <th></th>\n",
       "      <th>Eccentricity</th>\n",
       "      <th>Semimajor Axis (m)</th>\n",
       "      <th>Inclination (deg)</th>\n",
       "      <th>RAAN (deg)</th>\n",
       "      <th>Argument of Periapsis (deg)</th>\n",
       "      <th>True Anomaly (deg)</th>\n",
       "      <th>Latitude (deg)</th>\n",
       "      <th>Longitude (deg)</th>\n",
       "      <th>Altitude (m)</th>\n",
       "      <th>X (m)</th>\n",
       "      <th>...</th>\n",
       "      <th>Vy (m/s)_lag_5</th>\n",
       "      <th>Vz (m/s)_lag_1</th>\n",
       "      <th>Vz (m/s)_lag_2</th>\n",
       "      <th>Vz (m/s)_lag_3</th>\n",
       "      <th>Vz (m/s)_lag_4</th>\n",
       "      <th>Vz (m/s)_lag_5</th>\n",
       "      <th>EW</th>\n",
       "      <th>NS</th>\n",
       "      <th>EW_encoded</th>\n",
       "      <th>NS_encoded</th>\n",
       "    </tr>\n",
       "  </thead>\n",
       "  <tbody>\n",
       "    <tr>\n",
       "      <th>0</th>\n",
       "      <td>0.000202</td>\n",
       "      <td>4.216537e+07</td>\n",
       "      <td>0.139822</td>\n",
       "      <td>94.427336</td>\n",
       "      <td>52.733092</td>\n",
       "      <td>277.810980</td>\n",
       "      <td>-0.014460</td>\n",
       "      <td>85.119506</td>\n",
       "      <td>3.578607e+07</td>\n",
       "      <td>1.783837e+07</td>\n",
       "      <td>...</td>\n",
       "      <td>1300.258746</td>\n",
       "      <td>6.534142</td>\n",
       "      <td>6.534142</td>\n",
       "      <td>6.534142</td>\n",
       "      <td>6.534142</td>\n",
       "      <td>6.534142</td>\n",
       "      <td>SS-HK</td>\n",
       "      <td>SS-HK</td>\n",
       "      <td>7</td>\n",
       "      <td>6</td>\n",
       "    </tr>\n",
       "    <tr>\n",
       "      <th>1</th>\n",
       "      <td>0.000214</td>\n",
       "      <td>4.216458e+07</td>\n",
       "      <td>0.140008</td>\n",
       "      <td>94.407240</td>\n",
       "      <td>59.443909</td>\n",
       "      <td>301.205730</td>\n",
       "      <td>-0.007812</td>\n",
       "      <td>85.122842</td>\n",
       "      <td>3.578177e+07</td>\n",
       "      <td>-3.716169e+06</td>\n",
       "      <td>...</td>\n",
       "      <td>1300.258746</td>\n",
       "      <td>6.534142</td>\n",
       "      <td>6.534142</td>\n",
       "      <td>6.534142</td>\n",
       "      <td>6.534142</td>\n",
       "      <td>6.534142</td>\n",
       "      <td>SS-HK</td>\n",
       "      <td>SS-HK</td>\n",
       "      <td>7</td>\n",
       "      <td>6</td>\n",
       "    </tr>\n",
       "    <tr>\n",
       "      <th>2</th>\n",
       "      <td>0.000231</td>\n",
       "      <td>4.216450e+07</td>\n",
       "      <td>0.140139</td>\n",
       "      <td>94.420500</td>\n",
       "      <td>64.355257</td>\n",
       "      <td>326.372111</td>\n",
       "      <td>0.001030</td>\n",
       "      <td>85.131695</td>\n",
       "      <td>3.577825e+07</td>\n",
       "      <td>-2.426888e+07</td>\n",
       "      <td>...</td>\n",
       "      <td>1300.258746</td>\n",
       "      <td>7.513546</td>\n",
       "      <td>6.534142</td>\n",
       "      <td>6.534142</td>\n",
       "      <td>6.534142</td>\n",
       "      <td>6.534142</td>\n",
       "      <td>SS-HK</td>\n",
       "      <td>SS-HK</td>\n",
       "      <td>7</td>\n",
       "      <td>6</td>\n",
       "    </tr>\n",
       "    <tr>\n",
       "      <th>3</th>\n",
       "      <td>0.000255</td>\n",
       "      <td>4.216524e+07</td>\n",
       "      <td>0.140147</td>\n",
       "      <td>94.419710</td>\n",
       "      <td>67.664873</td>\n",
       "      <td>353.158326</td>\n",
       "      <td>0.009633</td>\n",
       "      <td>85.144601</td>\n",
       "      <td>3.577642e+07</td>\n",
       "      <td>-3.828008e+07</td>\n",
       "      <td>...</td>\n",
       "      <td>1300.258746</td>\n",
       "      <td>6.465207</td>\n",
       "      <td>7.513546</td>\n",
       "      <td>6.534142</td>\n",
       "      <td>6.534142</td>\n",
       "      <td>6.534142</td>\n",
       "      <td>SS-HK</td>\n",
       "      <td>SS-HK</td>\n",
       "      <td>7</td>\n",
       "      <td>6</td>\n",
       "    </tr>\n",
       "    <tr>\n",
       "      <th>4</th>\n",
       "      <td>0.000277</td>\n",
       "      <td>4.216620e+07</td>\n",
       "      <td>0.140112</td>\n",
       "      <td>94.348243</td>\n",
       "      <td>70.366450</td>\n",
       "      <td>20.624466</td>\n",
       "      <td>0.015595</td>\n",
       "      <td>85.158717</td>\n",
       "      <td>3.577713e+07</td>\n",
       "      <td>-4.197225e+07</td>\n",
       "      <td>...</td>\n",
       "      <td>1300.258746</td>\n",
       "      <td>3.667072</td>\n",
       "      <td>6.465207</td>\n",
       "      <td>7.513546</td>\n",
       "      <td>6.534142</td>\n",
       "      <td>6.534142</td>\n",
       "      <td>SS-HK</td>\n",
       "      <td>SS-HK</td>\n",
       "      <td>7</td>\n",
       "      <td>6</td>\n",
       "    </tr>\n",
       "  </tbody>\n",
       "</table>\n",
       "<p>5 rows × 96 columns</p>\n",
       "</div>"
      ],
      "text/plain": [
       "   Eccentricity  Semimajor Axis (m)  Inclination (deg)  RAAN (deg)  \\\n",
       "0      0.000202        4.216537e+07           0.139822   94.427336   \n",
       "1      0.000214        4.216458e+07           0.140008   94.407240   \n",
       "2      0.000231        4.216450e+07           0.140139   94.420500   \n",
       "3      0.000255        4.216524e+07           0.140147   94.419710   \n",
       "4      0.000277        4.216620e+07           0.140112   94.348243   \n",
       "\n",
       "   Argument of Periapsis (deg)  True Anomaly (deg)  Latitude (deg)  \\\n",
       "0                    52.733092          277.810980       -0.014460   \n",
       "1                    59.443909          301.205730       -0.007812   \n",
       "2                    64.355257          326.372111        0.001030   \n",
       "3                    67.664873          353.158326        0.009633   \n",
       "4                    70.366450           20.624466        0.015595   \n",
       "\n",
       "   Longitude (deg)  Altitude (m)         X (m)  ...  Vy (m/s)_lag_5  \\\n",
       "0        85.119506  3.578607e+07  1.783837e+07  ...     1300.258746   \n",
       "1        85.122842  3.578177e+07 -3.716169e+06  ...     1300.258746   \n",
       "2        85.131695  3.577825e+07 -2.426888e+07  ...     1300.258746   \n",
       "3        85.144601  3.577642e+07 -3.828008e+07  ...     1300.258746   \n",
       "4        85.158717  3.577713e+07 -4.197225e+07  ...     1300.258746   \n",
       "\n",
       "   Vz (m/s)_lag_1  Vz (m/s)_lag_2  Vz (m/s)_lag_3  Vz (m/s)_lag_4  \\\n",
       "0        6.534142        6.534142        6.534142        6.534142   \n",
       "1        6.534142        6.534142        6.534142        6.534142   \n",
       "2        7.513546        6.534142        6.534142        6.534142   \n",
       "3        6.465207        7.513546        6.534142        6.534142   \n",
       "4        3.667072        6.465207        7.513546        6.534142   \n",
       "\n",
       "   Vz (m/s)_lag_5     EW     NS  EW_encoded  NS_encoded  \n",
       "0        6.534142  SS-HK  SS-HK           7           6  \n",
       "1        6.534142  SS-HK  SS-HK           7           6  \n",
       "2        6.534142  SS-HK  SS-HK           7           6  \n",
       "3        6.534142  SS-HK  SS-HK           7           6  \n",
       "4        6.534142  SS-HK  SS-HK           7           6  \n",
       "\n",
       "[5 rows x 96 columns]"
      ]
     },
     "execution_count": 32,
     "metadata": {},
     "output_type": "execute_result"
    }
   ],
   "source": [
    "train_data.head()"
   ]
  },
  {
   "cell_type": "code",
   "execution_count": 33,
   "id": "853bee2b-2e26-488f-b561-3e6403bde9a3",
   "metadata": {},
   "outputs": [],
   "source": [
    "train_data_X = train_data.iloc[:,:-4].values"
   ]
  },
  {
   "cell_type": "code",
   "execution_count": 34,
   "id": "0d175105-687e-4687-a6e7-cde8391512be",
   "metadata": {},
   "outputs": [],
   "source": [
    "train_data_Y_EW = train_data.iloc[:,-2].values\n",
    "train_data_Y_NS = train_data.iloc[:,-1].values"
   ]
  },
  {
   "cell_type": "code",
   "execution_count": 55,
   "id": "f21bbfbd-853e-4cf1-b63d-5fd9ae18d3b5",
   "metadata": {},
   "outputs": [
    {
     "data": {
      "image/png": "[encoded data removed]",
      "text/plain": [
       "<Figure size 640x480 with 1 Axes>"
      ]
     },
     "metadata": {},
     "output_type": "display_data"
    }
   ],
   "source": [
    "train_data['EW'].value_counts().plot(kind=\"bar\")\n",
    "plt.xticks(rotation=45)\n",
    "plt.show()"
   ]
  },
  {
   "cell_type": "code",
   "execution_count": 56,
   "id": "1cd2accc-54de-4f6c-889d-ffd86a6100f2",
   "metadata": {},
   "outputs": [
    {
     "data": {
      "image/png": "[encoded data removed]",
      "text/plain": [
       "<Figure size 640x480 with 1 Axes>"
      ]
     },
     "metadata": {},
     "output_type": "display_data"
    }
   ],
   "source": [
    "train_data['NS'].value_counts().plot(kind=\"bar\")\n",
    "plt.xticks(rotation=45)\n",
    "plt.show()"
   ]
  },
  {
   "cell_type": "code",
   "execution_count": 10,
   "id": "05c96fed-92d2-4e9b-8c05-a359dd438763",
   "metadata": {},
   "outputs": [],
   "source": [
    "# Standardize the data\n",
    "scaler = StandardScaler()\n",
    "train_data_X = scaler.fit_transform(train_data_X)"
   ]
  },
  {
   "cell_type": "code",
   "execution_count": 45,
   "id": "4a548566-8f42-409e-bbcd-bccd6ac742ba",
   "metadata": {},
   "outputs": [],
   "source": [
    "# Reshape the data for LSTM input (samples, time steps, features)\n",
    "train_data_X = train_data_X.reshape((train_data_X.shape[0],1,train_data_X.shape[1]))"
   ]
  },
  {
   "cell_type": "code",
   "execution_count": 46,
   "id": "627863fb-b25c-4c30-b039-b29cec475972",
   "metadata": {},
   "outputs": [
    {
     "name": "stdout",
     "output_type": "stream",
     "text": [
      "WARNING:tensorflow:From D:\\Miniconda\\envs\\SPLID\\lib\\site-packages\\keras\\src\\backend.py:873: The name tf.get_default_graph is deprecated. Please use tf.compat.v1.get_default_graph instead.\n",
      "\n"
     ]
    }
   ],
   "source": [
    "# Build the LSTM model for multi-class classification\n",
    "EW_model = Sequential()\n",
    "EW_model.add(LSTM(50, return_sequences=True,input_shape=(train_data_X.shape[1], train_data_X.shape[2])))\n",
    "EW_model.add(Dropout(0.2))\n",
    "EW_model.add(LSTM(50, return_sequences=False))\n",
    "EW_model.add(Dropout(0.2))\n",
    "EW_model.add(Dense(9, activation='softmax'))  # Output layer for multi-class classification"
   ]
  },
  {
   "cell_type": "code",
   "execution_count": 47,
   "id": "e86c093c-aa70-47f6-9b96-d75f53a9d766",
   "metadata": {},
   "outputs": [
    {
     "name": "stdout",
     "output_type": "stream",
     "text": [
      "WARNING:tensorflow:From D:\\Miniconda\\envs\\SPLID\\lib\\site-packages\\keras\\src\\optimizers\\__init__.py:309: The name tf.train.Optimizer is deprecated. Please use tf.compat.v1.train.Optimizer instead.\n",
      "\n"
     ]
    }
   ],
   "source": [
    "# Compile the model\n",
    "EW_model.compile(optimizer='adam', loss='sparse_categorical_crossentropy', metrics=['accuracy'])"
   ]
  },
  {
   "cell_type": "code",
   "execution_count": 48,
   "id": "0678fdf7-e6db-4679-8b0a-1b5be60884ef",
   "metadata": {},
   "outputs": [
    {
     "name": "stdout",
     "output_type": "stream",
     "text": [
      "Model: \"sequential\"\n",
      "_________________________________________________________________\n",
      " Layer (type)                Output Shape              Param #   \n",
      "=================================================================\n",
      " lstm (LSTM)                 (None, 1, 50)             28600     \n",
      "                                                                 \n",
      " dropout (Dropout)           (None, 1, 50)             0         \n",
      "                                                                 \n",
      " lstm_1 (LSTM)               (None, 50)                20200     \n",
      "                                                                 \n",
      " dropout_1 (Dropout)         (None, 50)                0         \n",
      "                                                                 \n",
      " dense (Dense)               (None, 9)                 459       \n",
      "                                                                 \n",
      "=================================================================\n",
      "Total params: 49259 (192.42 KB)\n",
      "Trainable params: 49259 (192.42 KB)\n",
      "Non-trainable params: 0 (0.00 Byte)\n",
      "_________________________________________________________________\n"
     ]
    }
   ],
   "source": [
    "EW_model.summary()"
   ]
  },
  {
   "cell_type": "code",
   "execution_count": 49,
   "id": "51351c88-6a71-47a1-afe3-b624dc42a7ae",
   "metadata": {},
   "outputs": [
    {
     "name": "stdout",
     "output_type": "stream",
     "text": [
      "Epoch 1/10\n",
      "WARNING:tensorflow:From D:\\Miniconda\\envs\\SPLID\\lib\\site-packages\\keras\\src\\utils\\tf_utils.py:492: The name tf.ragged.RaggedTensorValue is deprecated. Please use tf.compat.v1.ragged.RaggedTensorValue instead.\n",
      "\n",
      "WARNING:tensorflow:From D:\\Miniconda\\envs\\SPLID\\lib\\site-packages\\keras\\src\\engine\\base_layer_utils.py:384: The name tf.executing_eagerly_outside_functions is deprecated. Please use tf.compat.v1.executing_eagerly_outside_functions instead.\n",
      "\n",
      "12261/12261 [==============================] - 77s 6ms/step - loss: 0.3176 - accuracy: 0.8816 - val_loss: 0.4111 - val_accuracy: 0.8669\n",
      "Epoch 2/10\n",
      "12261/12261 [==============================] - 67s 5ms/step - loss: 0.1654 - accuracy: 0.9376 - val_loss: 0.1195 - val_accuracy: 0.9448\n",
      "Epoch 3/10\n",
      "12261/12261 [==============================] - 66s 5ms/step - loss: 0.1380 - accuracy: 0.9482 - val_loss: 0.1004 - val_accuracy: 0.9639\n",
      "Epoch 4/10\n",
      "12261/12261 [==============================] - 64s 5ms/step - loss: 0.1243 - accuracy: 0.9533 - val_loss: 0.0521 - val_accuracy: 0.9809\n",
      "Epoch 5/10\n",
      "12261/12261 [==============================] - 58s 5ms/step - loss: 0.1149 - accuracy: 0.9570 - val_loss: 0.0780 - val_accuracy: 0.9769\n",
      "Epoch 6/10\n",
      "12261/12261 [==============================] - 60s 5ms/step - loss: 0.1091 - accuracy: 0.9592 - val_loss: 0.0723 - val_accuracy: 0.9758\n",
      "Epoch 7/10\n",
      "12261/12261 [==============================] - 59s 5ms/step - loss: 0.1047 - accuracy: 0.9607 - val_loss: 0.0616 - val_accuracy: 0.9804\n",
      "Epoch 8/10\n",
      "12261/12261 [==============================] - 63s 5ms/step - loss: 0.1014 - accuracy: 0.9621 - val_loss: 0.0839 - val_accuracy: 0.9737\n",
      "Epoch 9/10\n",
      "12261/12261 [==============================] - 63s 5ms/step - loss: 0.0987 - accuracy: 0.9630 - val_loss: 0.0555 - val_accuracy: 0.9819\n",
      "Epoch 10/10\n",
      "12261/12261 [==============================] - 55s 5ms/step - loss: 0.0956 - accuracy: 0.9641 - val_loss: 0.1090 - val_accuracy: 0.9700\n"
     ]
    },
    {
     "data": {
      "text/plain": [
       "<keras.src.callbacks.History at 0x1303ca6ffd0>"
      ]
     },
     "execution_count": 49,
     "metadata": {},
     "output_type": "execute_result"
    }
   ],
   "source": [
    "#Train the model\n",
    "EW_model.fit(train_data_X, train_data_Y_EW, epochs=10, batch_size=32,validation_split=0.2)"
   ]
  },
  {
   "cell_type": "code",
   "execution_count": 12,
   "id": "4bdd858a-e8ce-4888-b7db-5123effea064",
   "metadata": {},
   "outputs": [],
   "source": [
    "valid_data_X = valid_data.iloc[:,:-2].values"
   ]
  },
  {
   "cell_type": "code",
   "execution_count": 14,
   "id": "1502d6a0-7f55-438f-b930-97b75bfcbaf3",
   "metadata": {},
   "outputs": [],
   "source": [
    "valid_data_X = scaler.fit_transform(valid_data_X)\n",
    "valid_data_X = valid_data_X.reshape((valid_data_X.shape[0],1,valid_data_X.shape[1]))"
   ]
  },
  {
   "cell_type": "code",
   "execution_count": 56,
   "id": "fe7ef446-841f-4896-9f7e-4ee7e4738824",
   "metadata": {},
   "outputs": [
    {
     "name": "stdout",
     "output_type": "stream",
     "text": [
      "1702/1702 [==============================] - 6s 3ms/step\n"
     ]
    }
   ],
   "source": [
    "# Make predictions\n",
    "predictions = EW_model.predict(valid_data_X)\n",
    "\n",
    "# If it's a classification model, convert probabilities to class labels\n",
    "predicted_classes = np.argmax(predictions, axis=1)  # For multi-class classification\n",
    "# For binary classification, you might use a threshold like 0.5 to convert probabilities to 0 or 1\n",
    "\n",
    "# If you used label encoding, convert the numerical labels back to original labels\n",
    "predicted_labels = le_EW.inverse_transform(predicted_classes)\n"
   ]
  },
  {
   "cell_type": "code",
   "execution_count": 57,
   "id": "e2a2652b-85aa-441b-b747-21ce2ddc1740",
   "metadata": {},
   "outputs": [
    {
     "data": {
      "text/plain": [
       "array(['SS-NK', 'SS-NK', 'SS-NK', ..., 'SS-CK', 'ID-NK', 'ID-NK'],\n",
       "      dtype=object)"
      ]
     },
     "execution_count": 57,
     "metadata": {},
     "output_type": "execute_result"
    }
   ],
   "source": [
    "predicted_labels"
   ]
  },
  {
   "cell_type": "code",
   "execution_count": 59,
   "id": "bda6e9a7-75e3-4e2b-996c-21d2e23e905a",
   "metadata": {},
   "outputs": [],
   "source": [
    "valid_data['Predicted_EW'] = predicted_labels"
   ]
  },
  {
   "cell_type": "code",
   "execution_count": 60,
   "id": "9cf552f7-052c-4b06-88c4-9de38f2e2479",
   "metadata": {},
   "outputs": [
    {
     "data": {
      "text/html": [
       "<div>\n",
       "<style scoped>\n",
       "    .dataframe tbody tr th:only-of-type {\n",
       "        vertical-align: middle;\n",
       "    }\n",
       "\n",
       "    .dataframe tbody tr th {\n",
       "        vertical-align: top;\n",
       "    }\n",
       "\n",
       "    .dataframe thead th {\n",
       "        text-align: right;\n",
       "    }\n",
       "</style>\n",
       "<table border=\"1\" class=\"dataframe\">\n",
       "  <thead>\n",
       "    <tr style=\"text-align: right;\">\n",
       "      <th></th>\n",
       "      <th>Eccentricity</th>\n",
       "      <th>Semimajor Axis (m)</th>\n",
       "      <th>Inclination (deg)</th>\n",
       "      <th>RAAN (deg)</th>\n",
       "      <th>Argument of Periapsis (deg)</th>\n",
       "      <th>True Anomaly (deg)</th>\n",
       "      <th>Latitude (deg)</th>\n",
       "      <th>Longitude (deg)</th>\n",
       "      <th>Altitude (m)</th>\n",
       "      <th>X (m)</th>\n",
       "      <th>...</th>\n",
       "      <th>Vy (m/s)_lag_5</th>\n",
       "      <th>Vz (m/s)_lag_1</th>\n",
       "      <th>Vz (m/s)_lag_2</th>\n",
       "      <th>Vz (m/s)_lag_3</th>\n",
       "      <th>Vz (m/s)_lag_4</th>\n",
       "      <th>Vz (m/s)_lag_5</th>\n",
       "      <th>EW</th>\n",
       "      <th>NS</th>\n",
       "      <th>EW_encoded</th>\n",
       "      <th>Predicted_EW</th>\n",
       "    </tr>\n",
       "  </thead>\n",
       "  <tbody>\n",
       "    <tr>\n",
       "      <th>0</th>\n",
       "      <td>0.000141</td>\n",
       "      <td>4.224428e+07</td>\n",
       "      <td>0.150051</td>\n",
       "      <td>104.366296</td>\n",
       "      <td>48.629370</td>\n",
       "      <td>139.374252</td>\n",
       "      <td>0.025175</td>\n",
       "      <td>-65.223070</td>\n",
       "      <td>3.587068e+07</td>\n",
       "      <td>1.607924e+07</td>\n",
       "      <td>...</td>\n",
       "      <td>1168.669376</td>\n",
       "      <td>-7.965409</td>\n",
       "      <td>-7.965409</td>\n",
       "      <td>-7.965409</td>\n",
       "      <td>-7.965409</td>\n",
       "      <td>-7.965409</td>\n",
       "      <td>SS-NK</td>\n",
       "      <td>SS-NK</td>\n",
       "      <td>6</td>\n",
       "      <td>SS-NK</td>\n",
       "    </tr>\n",
       "    <tr>\n",
       "      <th>1</th>\n",
       "      <td>0.000138</td>\n",
       "      <td>4.224424e+07</td>\n",
       "      <td>0.150422</td>\n",
       "      <td>104.424876</td>\n",
       "      <td>43.956562</td>\n",
       "      <td>173.977589</td>\n",
       "      <td>0.005561</td>\n",
       "      <td>-65.316101</td>\n",
       "      <td>3.587189e+07</td>\n",
       "      <td>3.345573e+07</td>\n",
       "      <td>...</td>\n",
       "      <td>1168.669376</td>\n",
       "      <td>-7.965409</td>\n",
       "      <td>-7.965409</td>\n",
       "      <td>-7.965409</td>\n",
       "      <td>-7.965409</td>\n",
       "      <td>-7.965409</td>\n",
       "      <td>SS-NK</td>\n",
       "      <td>SS-NK</td>\n",
       "      <td>6</td>\n",
       "      <td>SS-NK</td>\n",
       "    </tr>\n",
       "    <tr>\n",
       "      <th>2</th>\n",
       "      <td>0.000148</td>\n",
       "      <td>4.224391e+07</td>\n",
       "      <td>0.150598</td>\n",
       "      <td>104.508808</td>\n",
       "      <td>39.059683</td>\n",
       "      <td>208.779144</td>\n",
       "      <td>-0.015721</td>\n",
       "      <td>-65.409636</td>\n",
       "      <td>3.587126e+07</td>\n",
       "      <td>4.187300e+07</td>\n",
       "      <td>...</td>\n",
       "      <td>1168.669376</td>\n",
       "      <td>-6.359744</td>\n",
       "      <td>-7.965409</td>\n",
       "      <td>-7.965409</td>\n",
       "      <td>-7.965409</td>\n",
       "      <td>-7.965409</td>\n",
       "      <td>SS-NK</td>\n",
       "      <td>SS-NK</td>\n",
       "      <td>6</td>\n",
       "      <td>SS-NK</td>\n",
       "    </tr>\n",
       "    <tr>\n",
       "      <th>3</th>\n",
       "      <td>0.000167</td>\n",
       "      <td>4.224357e+07</td>\n",
       "      <td>0.150618</td>\n",
       "      <td>104.537452</td>\n",
       "      <td>36.298070</td>\n",
       "      <td>241.502804</td>\n",
       "      <td>-0.032891</td>\n",
       "      <td>-65.501081</td>\n",
       "      <td>3.586880e+07</td>\n",
       "      <td>3.907641e+07</td>\n",
       "      <td>...</td>\n",
       "      <td>1168.669376</td>\n",
       "      <td>-3.044640</td>\n",
       "      <td>-6.359744</td>\n",
       "      <td>-7.965409</td>\n",
       "      <td>-7.965409</td>\n",
       "      <td>-7.965409</td>\n",
       "      <td>SS-NK</td>\n",
       "      <td>SS-NK</td>\n",
       "      <td>6</td>\n",
       "      <td>SS-NK</td>\n",
       "    </tr>\n",
       "    <tr>\n",
       "      <th>4</th>\n",
       "      <td>0.000188</td>\n",
       "      <td>4.224362e+07</td>\n",
       "      <td>0.150702</td>\n",
       "      <td>104.473202</td>\n",
       "      <td>34.455987</td>\n",
       "      <td>273.404296</td>\n",
       "      <td>-0.041227</td>\n",
       "      <td>-65.588052</td>\n",
       "      <td>3.586501e+07</td>\n",
       "      <td>2.581318e+07</td>\n",
       "      <td>...</td>\n",
       "      <td>1168.669376</td>\n",
       "      <td>1.097112</td>\n",
       "      <td>-3.044640</td>\n",
       "      <td>-6.359744</td>\n",
       "      <td>-7.965409</td>\n",
       "      <td>-7.965409</td>\n",
       "      <td>SS-NK</td>\n",
       "      <td>SS-NK</td>\n",
       "      <td>6</td>\n",
       "      <td>SS-NK</td>\n",
       "    </tr>\n",
       "  </tbody>\n",
       "</table>\n",
       "<p>5 rows × 96 columns</p>\n",
       "</div>"
      ],
      "text/plain": [
       "   Eccentricity  Semimajor Axis (m)  Inclination (deg)  RAAN (deg)  \\\n",
       "0      0.000141        4.224428e+07           0.150051  104.366296   \n",
       "1      0.000138        4.224424e+07           0.150422  104.424876   \n",
       "2      0.000148        4.224391e+07           0.150598  104.508808   \n",
       "3      0.000167        4.224357e+07           0.150618  104.537452   \n",
       "4      0.000188        4.224362e+07           0.150702  104.473202   \n",
       "\n",
       "   Argument of Periapsis (deg)  True Anomaly (deg)  Latitude (deg)  \\\n",
       "0                    48.629370          139.374252        0.025175   \n",
       "1                    43.956562          173.977589        0.005561   \n",
       "2                    39.059683          208.779144       -0.015721   \n",
       "3                    36.298070          241.502804       -0.032891   \n",
       "4                    34.455987          273.404296       -0.041227   \n",
       "\n",
       "   Longitude (deg)  Altitude (m)         X (m)  ...  Vy (m/s)_lag_5  \\\n",
       "0       -65.223070  3.587068e+07  1.607924e+07  ...     1168.669376   \n",
       "1       -65.316101  3.587189e+07  3.345573e+07  ...     1168.669376   \n",
       "2       -65.409636  3.587126e+07  4.187300e+07  ...     1168.669376   \n",
       "3       -65.501081  3.586880e+07  3.907641e+07  ...     1168.669376   \n",
       "4       -65.588052  3.586501e+07  2.581318e+07  ...     1168.669376   \n",
       "\n",
       "   Vz (m/s)_lag_1  Vz (m/s)_lag_2  Vz (m/s)_lag_3  Vz (m/s)_lag_4  \\\n",
       "0       -7.965409       -7.965409       -7.965409       -7.965409   \n",
       "1       -7.965409       -7.965409       -7.965409       -7.965409   \n",
       "2       -6.359744       -7.965409       -7.965409       -7.965409   \n",
       "3       -3.044640       -6.359744       -7.965409       -7.965409   \n",
       "4        1.097112       -3.044640       -6.359744       -7.965409   \n",
       "\n",
       "   Vz (m/s)_lag_5     EW     NS  EW_encoded  Predicted_EW  \n",
       "0       -7.965409  SS-NK  SS-NK           6         SS-NK  \n",
       "1       -7.965409  SS-NK  SS-NK           6         SS-NK  \n",
       "2       -7.965409  SS-NK  SS-NK           6         SS-NK  \n",
       "3       -7.965409  SS-NK  SS-NK           6         SS-NK  \n",
       "4       -7.965409  SS-NK  SS-NK           6         SS-NK  \n",
       "\n",
       "[5 rows x 96 columns]"
      ]
     },
     "execution_count": 60,
     "metadata": {},
     "output_type": "execute_result"
    }
   ],
   "source": [
    "valid_data.head()"
   ]
  },
  {
   "cell_type": "code",
   "execution_count": 62,
   "id": "78a022bf-434b-4089-9040-09bf523a0ceb",
   "metadata": {},
   "outputs": [],
   "source": [
    "# Build the LSTM model for multi-class classification NS\n",
    "NS_model = Sequential()\n",
    "NS_model.add(LSTM(50, return_sequences=True,input_shape=(train_data_X.shape[1], train_data_X.shape[2])))\n",
    "NS_model.add(Dropout(0.2))\n",
    "NS_model.add(LSTM(50, return_sequences=False))\n",
    "NS_model.add(Dropout(0.2))\n",
    "NS_model.add(Dense(9, activation='softmax'))  # Output layer for multi-class classificatiNS"
   ]
  },
  {
   "cell_type": "code",
   "execution_count": 63,
   "id": "8401aa5a-0864-49fc-b8df-01d670f1d217",
   "metadata": {},
   "outputs": [],
   "source": [
    "# Compile the model\n",
    "NS_model.compile(optimizer='adam', loss='sparse_categorical_crossentropy', metrics=['accuracy'])"
   ]
  },
  {
   "cell_type": "code",
   "execution_count": 64,
   "id": "1761bbd0-1064-4c36-bcf7-5c73104105a6",
   "metadata": {},
   "outputs": [
    {
     "name": "stdout",
     "output_type": "stream",
     "text": [
      "Epoch 1/10\n",
      "12261/12261 [==============================] - 52s 4ms/step - loss: 0.4243 - accuracy: 0.8432 - val_loss: 1.0356 - val_accuracy: 0.7862\n",
      "Epoch 2/10\n",
      "12261/12261 [==============================] - 48s 4ms/step - loss: 0.2461 - accuracy: 0.9052 - val_loss: 1.2297 - val_accuracy: 0.7284\n",
      "Epoch 3/10\n",
      "12261/12261 [==============================] - 48s 4ms/step - loss: 0.2037 - accuracy: 0.9213 - val_loss: 1.5552 - val_accuracy: 0.6765\n",
      "Epoch 4/10\n",
      "12261/12261 [==============================] - 48s 4ms/step - loss: 0.1831 - accuracy: 0.9289 - val_loss: 1.5555 - val_accuracy: 0.6874\n",
      "Epoch 5/10\n",
      "12261/12261 [==============================] - 48s 4ms/step - loss: 0.1695 - accuracy: 0.9338 - val_loss: 1.6081 - val_accuracy: 0.6844\n",
      "Epoch 6/10\n",
      "12261/12261 [==============================] - 48s 4ms/step - loss: 0.1614 - accuracy: 0.9373 - val_loss: 1.6598 - val_accuracy: 0.6599\n",
      "Epoch 7/10\n",
      "12261/12261 [==============================] - 48s 4ms/step - loss: 0.1539 - accuracy: 0.9398 - val_loss: 1.8080 - val_accuracy: 0.6669\n",
      "Epoch 8/10\n",
      "12261/12261 [==============================] - 48s 4ms/step - loss: 0.1490 - accuracy: 0.9415 - val_loss: 1.8832 - val_accuracy: 0.6527\n",
      "Epoch 9/10\n",
      "12261/12261 [==============================] - 48s 4ms/step - loss: 0.1446 - accuracy: 0.9434 - val_loss: 1.9922 - val_accuracy: 0.6491\n",
      "Epoch 10/10\n",
      "12261/12261 [==============================] - 51s 4ms/step - loss: 0.1404 - accuracy: 0.9455 - val_loss: 1.9087 - val_accuracy: 0.6669\n"
     ]
    },
    {
     "data": {
      "text/plain": [
       "<keras.src.callbacks.History at 0x1303ca9d0c0>"
      ]
     },
     "execution_count": 64,
     "metadata": {},
     "output_type": "execute_result"
    }
   ],
   "source": [
    "#Train the model\n",
    "NS_model.fit(train_data_X, train_data_Y_NS, epochs=10, batch_size=32,validation_split=0.2)"
   ]
  },
  {
   "cell_type": "code",
   "execution_count": 65,
   "id": "80aaf0f5-9422-4da8-b097-8538a5bbceac",
   "metadata": {},
   "outputs": [
    {
     "name": "stdout",
     "output_type": "stream",
     "text": [
      "1702/1702 [==============================] - 4s 2ms/step\n"
     ]
    }
   ],
   "source": [
    "# Make predictions\n",
    "predictions = NS_model.predict(valid_data_X)\n",
    "\n",
    "# If it's a classification model, convert probabilities to class labels\n",
    "predicted_classes = np.argmax(predictions, axis=1)  # For multi-class classification\n",
    "# For binary classification, you might use a threshold like 0.5 to convert probabilities to 0 or 1\n",
    "\n",
    "# If you used label encoding, convert the numerical labels back to original labels\n",
    "predicted_labels = le_NS.inverse_transform(predicted_classes)\n"
   ]
  },
  {
   "cell_type": "code",
   "execution_count": 67,
   "id": "d85a1665-40b2-4589-bdf8-651421bb30a1",
   "metadata": {},
   "outputs": [],
   "source": [
    "valid_data['Predicted_NS'] = predicted_labels"
   ]
  },
  {
   "cell_type": "code",
   "execution_count": 69,
   "id": "bebd4f57-5d18-498d-9264-8953f9d61f8d",
   "metadata": {},
   "outputs": [],
   "source": [
    "valid_data = valid_data.drop(columns=['EW_encoded'])"
   ]
  },
  {
   "cell_type": "code",
   "execution_count": 70,
   "id": "fa589a34-e6d1-41da-b5b9-65b70f44cebc",
   "metadata": {},
   "outputs": [
    {
     "data": {
      "text/html": [
       "<div>\n",
       "<style scoped>\n",
       "    .dataframe tbody tr th:only-of-type {\n",
       "        vertical-align: middle;\n",
       "    }\n",
       "\n",
       "    .dataframe tbody tr th {\n",
       "        vertical-align: top;\n",
       "    }\n",
       "\n",
       "    .dataframe thead th {\n",
       "        text-align: right;\n",
       "    }\n",
       "</style>\n",
       "<table border=\"1\" class=\"dataframe\">\n",
       "  <thead>\n",
       "    <tr style=\"text-align: right;\">\n",
       "      <th></th>\n",
       "      <th>Eccentricity</th>\n",
       "      <th>Semimajor Axis (m)</th>\n",
       "      <th>Inclination (deg)</th>\n",
       "      <th>RAAN (deg)</th>\n",
       "      <th>Argument of Periapsis (deg)</th>\n",
       "      <th>True Anomaly (deg)</th>\n",
       "      <th>Latitude (deg)</th>\n",
       "      <th>Longitude (deg)</th>\n",
       "      <th>Altitude (m)</th>\n",
       "      <th>X (m)</th>\n",
       "      <th>...</th>\n",
       "      <th>Vy (m/s)_lag_5</th>\n",
       "      <th>Vz (m/s)_lag_1</th>\n",
       "      <th>Vz (m/s)_lag_2</th>\n",
       "      <th>Vz (m/s)_lag_3</th>\n",
       "      <th>Vz (m/s)_lag_4</th>\n",
       "      <th>Vz (m/s)_lag_5</th>\n",
       "      <th>EW</th>\n",
       "      <th>NS</th>\n",
       "      <th>Predicted_EW</th>\n",
       "      <th>Predicted_NS</th>\n",
       "    </tr>\n",
       "  </thead>\n",
       "  <tbody>\n",
       "    <tr>\n",
       "      <th>0</th>\n",
       "      <td>0.000141</td>\n",
       "      <td>4.224428e+07</td>\n",
       "      <td>0.150051</td>\n",
       "      <td>104.366296</td>\n",
       "      <td>48.629370</td>\n",
       "      <td>139.374252</td>\n",
       "      <td>0.025175</td>\n",
       "      <td>-65.223070</td>\n",
       "      <td>3.587068e+07</td>\n",
       "      <td>1.607924e+07</td>\n",
       "      <td>...</td>\n",
       "      <td>1168.669376</td>\n",
       "      <td>-7.965409</td>\n",
       "      <td>-7.965409</td>\n",
       "      <td>-7.965409</td>\n",
       "      <td>-7.965409</td>\n",
       "      <td>-7.965409</td>\n",
       "      <td>SS-NK</td>\n",
       "      <td>SS-NK</td>\n",
       "      <td>SS-NK</td>\n",
       "      <td>SS-NK</td>\n",
       "    </tr>\n",
       "    <tr>\n",
       "      <th>1</th>\n",
       "      <td>0.000138</td>\n",
       "      <td>4.224424e+07</td>\n",
       "      <td>0.150422</td>\n",
       "      <td>104.424876</td>\n",
       "      <td>43.956562</td>\n",
       "      <td>173.977589</td>\n",
       "      <td>0.005561</td>\n",
       "      <td>-65.316101</td>\n",
       "      <td>3.587189e+07</td>\n",
       "      <td>3.345573e+07</td>\n",
       "      <td>...</td>\n",
       "      <td>1168.669376</td>\n",
       "      <td>-7.965409</td>\n",
       "      <td>-7.965409</td>\n",
       "      <td>-7.965409</td>\n",
       "      <td>-7.965409</td>\n",
       "      <td>-7.965409</td>\n",
       "      <td>SS-NK</td>\n",
       "      <td>SS-NK</td>\n",
       "      <td>SS-NK</td>\n",
       "      <td>SS-NK</td>\n",
       "    </tr>\n",
       "    <tr>\n",
       "      <th>2</th>\n",
       "      <td>0.000148</td>\n",
       "      <td>4.224391e+07</td>\n",
       "      <td>0.150598</td>\n",
       "      <td>104.508808</td>\n",
       "      <td>39.059683</td>\n",
       "      <td>208.779144</td>\n",
       "      <td>-0.015721</td>\n",
       "      <td>-65.409636</td>\n",
       "      <td>3.587126e+07</td>\n",
       "      <td>4.187300e+07</td>\n",
       "      <td>...</td>\n",
       "      <td>1168.669376</td>\n",
       "      <td>-6.359744</td>\n",
       "      <td>-7.965409</td>\n",
       "      <td>-7.965409</td>\n",
       "      <td>-7.965409</td>\n",
       "      <td>-7.965409</td>\n",
       "      <td>SS-NK</td>\n",
       "      <td>SS-NK</td>\n",
       "      <td>SS-NK</td>\n",
       "      <td>SS-NK</td>\n",
       "    </tr>\n",
       "    <tr>\n",
       "      <th>3</th>\n",
       "      <td>0.000167</td>\n",
       "      <td>4.224357e+07</td>\n",
       "      <td>0.150618</td>\n",
       "      <td>104.537452</td>\n",
       "      <td>36.298070</td>\n",
       "      <td>241.502804</td>\n",
       "      <td>-0.032891</td>\n",
       "      <td>-65.501081</td>\n",
       "      <td>3.586880e+07</td>\n",
       "      <td>3.907641e+07</td>\n",
       "      <td>...</td>\n",
       "      <td>1168.669376</td>\n",
       "      <td>-3.044640</td>\n",
       "      <td>-6.359744</td>\n",
       "      <td>-7.965409</td>\n",
       "      <td>-7.965409</td>\n",
       "      <td>-7.965409</td>\n",
       "      <td>SS-NK</td>\n",
       "      <td>SS-NK</td>\n",
       "      <td>SS-NK</td>\n",
       "      <td>SS-NK</td>\n",
       "    </tr>\n",
       "    <tr>\n",
       "      <th>4</th>\n",
       "      <td>0.000188</td>\n",
       "      <td>4.224362e+07</td>\n",
       "      <td>0.150702</td>\n",
       "      <td>104.473202</td>\n",
       "      <td>34.455987</td>\n",
       "      <td>273.404296</td>\n",
       "      <td>-0.041227</td>\n",
       "      <td>-65.588052</td>\n",
       "      <td>3.586501e+07</td>\n",
       "      <td>2.581318e+07</td>\n",
       "      <td>...</td>\n",
       "      <td>1168.669376</td>\n",
       "      <td>1.097112</td>\n",
       "      <td>-3.044640</td>\n",
       "      <td>-6.359744</td>\n",
       "      <td>-7.965409</td>\n",
       "      <td>-7.965409</td>\n",
       "      <td>SS-NK</td>\n",
       "      <td>SS-NK</td>\n",
       "      <td>SS-NK</td>\n",
       "      <td>SS-NK</td>\n",
       "    </tr>\n",
       "  </tbody>\n",
       "</table>\n",
       "<p>5 rows × 96 columns</p>\n",
       "</div>"
      ],
      "text/plain": [
       "   Eccentricity  Semimajor Axis (m)  Inclination (deg)  RAAN (deg)  \\\n",
       "0      0.000141        4.224428e+07           0.150051  104.366296   \n",
       "1      0.000138        4.224424e+07           0.150422  104.424876   \n",
       "2      0.000148        4.224391e+07           0.150598  104.508808   \n",
       "3      0.000167        4.224357e+07           0.150618  104.537452   \n",
       "4      0.000188        4.224362e+07           0.150702  104.473202   \n",
       "\n",
       "   Argument of Periapsis (deg)  True Anomaly (deg)  Latitude (deg)  \\\n",
       "0                    48.629370          139.374252        0.025175   \n",
       "1                    43.956562          173.977589        0.005561   \n",
       "2                    39.059683          208.779144       -0.015721   \n",
       "3                    36.298070          241.502804       -0.032891   \n",
       "4                    34.455987          273.404296       -0.041227   \n",
       "\n",
       "   Longitude (deg)  Altitude (m)         X (m)  ...  Vy (m/s)_lag_5  \\\n",
       "0       -65.223070  3.587068e+07  1.607924e+07  ...     1168.669376   \n",
       "1       -65.316101  3.587189e+07  3.345573e+07  ...     1168.669376   \n",
       "2       -65.409636  3.587126e+07  4.187300e+07  ...     1168.669376   \n",
       "3       -65.501081  3.586880e+07  3.907641e+07  ...     1168.669376   \n",
       "4       -65.588052  3.586501e+07  2.581318e+07  ...     1168.669376   \n",
       "\n",
       "   Vz (m/s)_lag_1  Vz (m/s)_lag_2  Vz (m/s)_lag_3  Vz (m/s)_lag_4  \\\n",
       "0       -7.965409       -7.965409       -7.965409       -7.965409   \n",
       "1       -7.965409       -7.965409       -7.965409       -7.965409   \n",
       "2       -6.359744       -7.965409       -7.965409       -7.965409   \n",
       "3       -3.044640       -6.359744       -7.965409       -7.965409   \n",
       "4        1.097112       -3.044640       -6.359744       -7.965409   \n",
       "\n",
       "   Vz (m/s)_lag_5     EW     NS  Predicted_EW  Predicted_NS  \n",
       "0       -7.965409  SS-NK  SS-NK         SS-NK         SS-NK  \n",
       "1       -7.965409  SS-NK  SS-NK         SS-NK         SS-NK  \n",
       "2       -7.965409  SS-NK  SS-NK         SS-NK         SS-NK  \n",
       "3       -7.965409  SS-NK  SS-NK         SS-NK         SS-NK  \n",
       "4       -7.965409  SS-NK  SS-NK         SS-NK         SS-NK  \n",
       "\n",
       "[5 rows x 96 columns]"
      ]
     },
     "execution_count": 70,
     "metadata": {},
     "output_type": "execute_result"
    }
   ],
   "source": [
    "valid_data.head()"
   ]
  },
  {
   "cell_type": "code",
   "execution_count": 72,
   "id": "2e2d4f6f-1721-4340-a872-adc4e62725dd",
   "metadata": {},
   "outputs": [
    {
     "name": "stdout",
     "output_type": "stream",
     "text": [
      "Precision for the valid set: 0.00\n",
      "Recall for the valid set: 0.80\n",
      "F2 for the valid set: 0.02\n",
      "RMSE for the valid set: 0.37\n"
     ]
    }
   ],
   "source": [
    "valid_results = utils.convert_classifier_output(valid_data)\n",
    "evaluator = evaluation.NodeDetectionEvaluator(ground_truth_valid, valid_results,tolerance=6)\n",
    "precision, recall, f2, rmse = evaluator.score()\n",
    "print(f'Precision for the valid set: {precision:.2f}')\n",
    "print(f'Recall for the valid set: {recall:.2f}')\n",
    "print(f'F2 for the valid set: {f2:.2f}')\n",
    "print(f'RMSE for the valid set: {rmse:.2f}')"
   ]
  },
  {
   "cell_type": "code",
   "execution_count": 74,
   "id": "bf528d4a-a017-4264-bc83-2cb67efaf9c3",
   "metadata": {},
   "outputs": [
    {
     "data": {
      "image/png": "[encoded data removed]",
      "text/plain": [
       "<Figure size 1000x600 with 2 Axes>"
      ]
     },
     "metadata": {},
     "output_type": "display_data"
    }
   ],
   "source": [
    "# Plot the evaluation timeline for a random ObjectID from the validation set\n",
    "evaluator.plot(np.random.choice(valid_data['ObjectID'].unique()))"
   ]
  },
  {
   "cell_type": "code",
   "execution_count": 75,
   "id": "27ad798a-bdcc-40e4-afe8-6155ffc5e24b",
   "metadata": {},
   "outputs": [
    {
     "name": "stdout",
     "output_type": "stream",
     "text": [
      "Total true positives: 40\n",
      "Total false positives: 9506\n",
      "Total false negatives: 9\n"
     ]
    }
   ],
   "source": [
    "# Loop over the Object IDs in the training set and call the evaluation\n",
    "# function for each object and aggregate the results\n",
    "total_tp = 0\n",
    "total_fp = 0\n",
    "total_fn = 0\n",
    "for oid in valid_data['ObjectID'].unique():\n",
    "    tp, fp, fn, gt_object, p_object = evaluator.evaluate(oid)\n",
    "    total_tp += tp\n",
    "    total_fp += fp\n",
    "    total_fn += fn\n",
    "\n",
    "print(f'Total true positives: {total_tp}')\n",
    "print(f'Total false positives: {total_fp}')\n",
    "print(f'Total false negatives: {total_fn}')"
   ]
  },
  {
   "cell_type": "markdown",
   "id": "2f9a2c60-248b-4a95-b966-db544d162dbb",
   "metadata": {},
   "source": [
    "# Saved Model Inference section"
   ]
  },
  {
   "cell_type": "code",
   "execution_count": 15,
   "id": "0ddc9be0-666b-47ac-953e-08cdd5783f09",
   "metadata": {},
   "outputs": [],
   "source": [
    "import pickle"
   ]
  },
  {
   "cell_type": "code",
   "execution_count": 16,
   "id": "27d98a8f-b905-4352-b50f-d9c8f3a42705",
   "metadata": {},
   "outputs": [
    {
     "data": {
      "text/plain": [
       "Path('D:/SPLID/splid-devkit/data')"
      ]
     },
     "execution_count": 16,
     "metadata": {},
     "output_type": "execute_result"
    }
   ],
   "source": [
    "config.challenge_data_dir"
   ]
  },
  {
   "cell_type": "code",
   "execution_count": 25,
   "id": "c16e8bc6-0d49-4d64-bfb4-a5253da9b670",
   "metadata": {},
   "outputs": [],
   "source": [
    "EW_model_file_path = Path('D:/SPLID/splid-devkit/baseline_submissions/ml_python/ML_solutions/trained_model/LSTM_model_EW.pkl')"
   ]
  },
  {
   "cell_type": "code",
   "execution_count": 26,
   "id": "181a9762-5c7f-4128-8341-cb65bef0dd1a",
   "metadata": {},
   "outputs": [
    {
     "ename": "PermissionError",
     "evalue": "[Errno 13] Permission denied: 'D:\\\\SPLID\\\\splid-devkit\\\\baseline_submissions\\\\ml_python\\\\ML_solutions\\\\trained_model'",
     "output_type": "error",
     "traceback": [
      "\u001b[1;31m---------------------------------------------------------------------------\u001b[0m",
      "\u001b[1;31mPermissionError\u001b[0m                           Traceback (most recent call last)",
      "Cell \u001b[1;32mIn[26], line 1\u001b[0m\n\u001b[1;32m----> 1\u001b[0m \u001b[38;5;28;01mwith\u001b[39;00m \u001b[43mmodel_file_path\u001b[49m\u001b[38;5;241;43m.\u001b[39;49m\u001b[43mopen\u001b[49m\u001b[43m(\u001b[49m\u001b[38;5;124;43m\"\u001b[39;49m\u001b[38;5;124;43mrb\u001b[39;49m\u001b[38;5;124;43m\"\u001b[39;49m\u001b[43m)\u001b[49m \u001b[38;5;28;01mas\u001b[39;00m f:\n\u001b[0;32m      2\u001b[0m     EW_model \u001b[38;5;241m=\u001b[39m pickle\u001b[38;5;241m.\u001b[39mload(f)\n\u001b[0;32m      4\u001b[0m f\u001b[38;5;241m.\u001b[39mclose()\n",
      "File \u001b[1;32mD:\\Miniconda\\envs\\SPLID\\lib\\pathlib.py:1119\u001b[0m, in \u001b[0;36mPath.open\u001b[1;34m(self, mode, buffering, encoding, errors, newline)\u001b[0m\n\u001b[0;32m   1117\u001b[0m \u001b[38;5;28;01mif\u001b[39;00m \u001b[38;5;124m\"\u001b[39m\u001b[38;5;124mb\u001b[39m\u001b[38;5;124m\"\u001b[39m \u001b[38;5;129;01mnot\u001b[39;00m \u001b[38;5;129;01min\u001b[39;00m mode:\n\u001b[0;32m   1118\u001b[0m     encoding \u001b[38;5;241m=\u001b[39m io\u001b[38;5;241m.\u001b[39mtext_encoding(encoding)\n\u001b[1;32m-> 1119\u001b[0m \u001b[38;5;28;01mreturn\u001b[39;00m \u001b[38;5;28;43mself\u001b[39;49m\u001b[38;5;241;43m.\u001b[39;49m\u001b[43m_accessor\u001b[49m\u001b[38;5;241;43m.\u001b[39;49m\u001b[43mopen\u001b[49m\u001b[43m(\u001b[49m\u001b[38;5;28;43mself\u001b[39;49m\u001b[43m,\u001b[49m\u001b[43m \u001b[49m\u001b[43mmode\u001b[49m\u001b[43m,\u001b[49m\u001b[43m \u001b[49m\u001b[43mbuffering\u001b[49m\u001b[43m,\u001b[49m\u001b[43m \u001b[49m\u001b[43mencoding\u001b[49m\u001b[43m,\u001b[49m\u001b[43m \u001b[49m\u001b[43merrors\u001b[49m\u001b[43m,\u001b[49m\n\u001b[0;32m   1120\u001b[0m \u001b[43m                           \u001b[49m\u001b[43mnewline\u001b[49m\u001b[43m)\u001b[49m\n",
      "\u001b[1;31mPermissionError\u001b[0m: [Errno 13] Permission denied: 'D:\\\\SPLID\\\\splid-devkit\\\\baseline_submissions\\\\ml_python\\\\ML_solutions\\\\trained_model'"
     ]
    }
   ],
   "source": [
    "with model_file_path.open(\"rb\") as f:\n",
    "    EW_model = pickle.load(f)\n",
    "\n",
    "f.close()"
   ]
  },
  {
   "cell_type": "code",
   "execution_count": null,
   "id": "ed0ca5bf-5b56-4146-9b5c-301d0efab21a",
   "metadata": {},
   "outputs": [],
   "source": []
  }
 ],
 "metadata": {
  "kernelspec": {
   "display_name": "Python 3 (ipykernel)",
   "language": "python",
   "name": "python3"
  },
  "language_info": {
   "codemirror_mode": {
    "name": "ipython",
    "version": 3
   },
   "file_extension": ".py",
   "mimetype": "text/x-python",
   "name": "python",
   "nbconvert_exporter": "python",
   "pygments_lexer": "ipython3",
   "version": "3.10.13"
  }
 },
 "nbformat": 4,
 "nbformat_minor": 5
}
