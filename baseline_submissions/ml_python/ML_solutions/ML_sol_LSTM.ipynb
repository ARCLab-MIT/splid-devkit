{
 "cells": [
  {
   "cell_type": "code",
   "execution_count": 1,
   "id": "1a4f8e45-a16a-48cb-b937-6344f3c11d00",
   "metadata": {},
   "outputs": [],
   "source": [
    "%load_ext autoreload\n",
    "%autoreload 2"
   ]
  },
  {
   "cell_type": "code",
   "execution_count": 3,
   "id": "89e8e946-b917-4ad0-9360-138bba78d7f4",
   "metadata": {},
   "outputs": [],
   "source": [
    "import numpy as np\n",
    "import pandas as pd\n",
    "from pathlib import Path\n",
    "import pickle\n",
    "from sklearn.model_selection import train_test_split\n",
    "from sklearn.preprocessing import StandardScaler, LabelEncoder,MinMaxScaler\n",
    "from sklearn.metrics import accuracy_score\n",
    "import sys\n",
    "sys.path.append('../..') \n",
    "import evaluation\n",
    "sys.path.append('../') \n",
    "import utils\n",
    "import utils2\n",
    "from imblearn.over_sampling import SMOTE\n",
    "from fastcore.basics import Path, AttrDict\n",
    "import matplotlib.pyplot as plt"
   ]
  },
  {
   "cell_type": "code",
   "execution_count": 4,
   "id": "977b46f6-e4fd-4462-845b-b307dd2a079d",
   "metadata": {},
   "outputs": [],
   "source": [
    "import tensorflow\n",
    "from tensorflow.keras.models import Sequential\n",
    "from tensorflow.keras.layers import LSTM, Dense, Dropout\n",
    "from tensorflow.keras.utils import to_categorical"
   ]
  },
  {
   "cell_type": "code",
   "execution_count": 5,
   "id": "4ebe791f-759e-4c0b-b755-6e06ae018fff",
   "metadata": {},
   "outputs": [],
   "source": [
    "config = AttrDict(\n",
    "    challenge_data_dir = Path('D:/SPLID/splid-devkit/data').expanduser(),\n",
    "    valid_ratio = 0.1,\n",
    "    lag_steps = 5\n",
    ")"
   ]
  },
  {
   "cell_type": "code",
   "execution_count": 6,
   "id": "4605671f-0c4b-4c62-9a38-f21b26836b18",
   "metadata": {},
   "outputs": [],
   "source": [
    "# Define the list of feature columns\n",
    "feature_cols = [\n",
    "    \"Eccentricity\",\n",
    "    \"Semimajor Axis (m)\",\n",
    "    \"Inclination (deg)\",\n",
    "    \"RAAN (deg)\",\n",
    "    \"Argument of Periapsis (deg)\",\n",
    "    \"True Anomaly (deg)\",\n",
    "    \"Latitude (deg)\",\n",
    "    \"Longitude (deg)\",\n",
    "    \"Altitude (m)\",\n",
    "    \"X (m)\",\n",
    "    \"Y (m)\",\n",
    "    \"Z (m)\",\n",
    "    \"Vx (m/s)\",\n",
    "    \"Vy (m/s)\",\n",
    "    \"Vz (m/s)\"\n",
    "]"
   ]
  },
  {
   "cell_type": "code",
   "execution_count": 7,
   "id": "9b4f5b80-3261-45dd-a77b-6aabd757b858",
   "metadata": {},
   "outputs": [
    {
     "data": {
      "text/html": [
       "<div>\n",
       "<style scoped>\n",
       "    .dataframe tbody tr th:only-of-type {\n",
       "        vertical-align: middle;\n",
       "    }\n",
       "\n",
       "    .dataframe tbody tr th {\n",
       "        vertical-align: top;\n",
       "    }\n",
       "\n",
       "    .dataframe thead th {\n",
       "        text-align: right;\n",
       "    }\n",
       "</style>\n",
       "<table border=\"1\" class=\"dataframe\">\n",
       "  <thead>\n",
       "    <tr style=\"text-align: right;\">\n",
       "      <th></th>\n",
       "      <th>ObjectID</th>\n",
       "      <th>TimeIndex</th>\n",
       "      <th>EW</th>\n",
       "      <th>NS</th>\n",
       "    </tr>\n",
       "  </thead>\n",
       "  <tbody>\n",
       "    <tr>\n",
       "      <th>0</th>\n",
       "      <td>1</td>\n",
       "      <td>0</td>\n",
       "      <td>SS-HK</td>\n",
       "      <td>SS-HK</td>\n",
       "    </tr>\n",
       "    <tr>\n",
       "      <th>1</th>\n",
       "      <td>1</td>\n",
       "      <td>1</td>\n",
       "      <td>SS-HK</td>\n",
       "      <td>SS-HK</td>\n",
       "    </tr>\n",
       "    <tr>\n",
       "      <th>0</th>\n",
       "      <td>10</td>\n",
       "      <td>0</td>\n",
       "      <td>SS-CK</td>\n",
       "      <td>SS-NK</td>\n",
       "    </tr>\n",
       "    <tr>\n",
       "      <th>1</th>\n",
       "      <td>10</td>\n",
       "      <td>1</td>\n",
       "      <td>SS-CK</td>\n",
       "      <td>SS-NK</td>\n",
       "    </tr>\n",
       "    <tr>\n",
       "      <th>0</th>\n",
       "      <td>100</td>\n",
       "      <td>0</td>\n",
       "      <td>SS-CK</td>\n",
       "      <td>SS-CK</td>\n",
       "    </tr>\n",
       "    <tr>\n",
       "      <th>1</th>\n",
       "      <td>100</td>\n",
       "      <td>1</td>\n",
       "      <td>SS-CK</td>\n",
       "      <td>SS-CK</td>\n",
       "    </tr>\n",
       "    <tr>\n",
       "      <th>0</th>\n",
       "      <td>101</td>\n",
       "      <td>0</td>\n",
       "      <td>SS-CK</td>\n",
       "      <td>SS-NK</td>\n",
       "    </tr>\n",
       "    <tr>\n",
       "      <th>1</th>\n",
       "      <td>101</td>\n",
       "      <td>1</td>\n",
       "      <td>SS-CK</td>\n",
       "      <td>SS-NK</td>\n",
       "    </tr>\n",
       "    <tr>\n",
       "      <th>0</th>\n",
       "      <td>102</td>\n",
       "      <td>0</td>\n",
       "      <td>SS-CK</td>\n",
       "      <td>SS-NK</td>\n",
       "    </tr>\n",
       "    <tr>\n",
       "      <th>1</th>\n",
       "      <td>102</td>\n",
       "      <td>1</td>\n",
       "      <td>SS-CK</td>\n",
       "      <td>SS-NK</td>\n",
       "    </tr>\n",
       "  </tbody>\n",
       "</table>\n",
       "</div>"
      ],
      "text/plain": [
       "   ObjectID  TimeIndex     EW     NS\n",
       "0         1          0  SS-HK  SS-HK\n",
       "1         1          1  SS-HK  SS-HK\n",
       "0        10          0  SS-CK  SS-NK\n",
       "1        10          1  SS-CK  SS-NK\n",
       "0       100          0  SS-CK  SS-CK\n",
       "1       100          1  SS-CK  SS-CK\n",
       "0       101          0  SS-CK  SS-NK\n",
       "1       101          1  SS-CK  SS-NK\n",
       "0       102          0  SS-CK  SS-NK\n",
       "1       102          1  SS-CK  SS-NK"
      ]
     },
     "execution_count": 7,
     "metadata": {},
     "output_type": "execute_result"
    }
   ],
   "source": [
    "# Define the directory paths\n",
    "train_data_dir = config.challenge_data_dir / \"train\"\n",
    "\n",
    "# Load the ground truth data\n",
    "ground_truth = pd.read_csv(config.challenge_data_dir / 'train_labels.csv')\n",
    "\n",
    "# Apply the function to the ground truth data\n",
    "data, updated_feature_cols = utils.tabularize_data(train_data_dir, feature_cols, \n",
    "                                          ground_truth, lag_steps=config.lag_steps)\n",
    "\n",
    "# For each ObjectID, show the first rows of the columns TimeIndex, ObjectID, EW, and NS\n",
    "data[['ObjectID', 'TimeIndex' , 'EW', 'NS']].groupby('ObjectID').head(2).head(10)"
   ]
  },
  {
   "cell_type": "code",
   "execution_count": 8,
   "id": "ce04f90c-7b8f-4a58-8b08-88a77dd4c51a",
   "metadata": {},
   "outputs": [
    {
     "name": "stdout",
     "output_type": "stream",
     "text": [
      "Number of objects in the training set: 225\n",
      "Number of objects in the validation set: 25\n"
     ]
    }
   ],
   "source": [
    "# Create a validation set without mixing the ObjectIDs\n",
    "object_ids = data['ObjectID'].unique()\n",
    "train_ids, valid_ids = train_test_split(object_ids,\n",
    "                                        test_size=config.valid_ratio, \n",
    "                                        random_state=42)\n",
    "\n",
    "train_data = data[data['ObjectID'].isin(train_ids)].copy()\n",
    "valid_data = data[data['ObjectID'].isin(valid_ids)].copy()\n",
    "\n",
    "ground_truth_train = ground_truth[ground_truth['ObjectID'].isin(train_ids)].copy()\n",
    "ground_truth_valid = ground_truth[ground_truth['ObjectID'].isin(valid_ids)].copy()\n",
    "\n",
    "# Count the number of objects in the training and validation sets\n",
    "print('Number of objects in the training set:', len(train_data['ObjectID'].unique()))\n",
    "print('Number of objects in the validation set:', len(valid_data['ObjectID'].unique()))"
   ]
  },
  {
   "cell_type": "code",
   "execution_count": 9,
   "id": "305b6007-cf4d-47b2-97ad-e484864e7579",
   "metadata": {},
   "outputs": [],
   "source": [
    "# Convert categorical data to numerical data\n",
    "le_EW = LabelEncoder()\n",
    "le_NS = LabelEncoder()\n",
    "\n",
    "# Encode the 'EW' and 'NS' columns\n",
    "train_data['EW_encoded'] = le_EW.fit_transform(train_data['EW'])\n",
    "train_data['NS_encoded'] = le_NS.fit_transform(train_data['NS'])"
   ]
  },
  {
   "cell_type": "code",
   "execution_count": 10,
   "id": "a363e76e-b972-442b-9f04-d96b4f73e5eb",
   "metadata": {},
   "outputs": [
    {
     "data": {
      "text/html": [
       "<div>\n",
       "<style scoped>\n",
       "    .dataframe tbody tr th:only-of-type {\n",
       "        vertical-align: middle;\n",
       "    }\n",
       "\n",
       "    .dataframe tbody tr th {\n",
       "        vertical-align: top;\n",
       "    }\n",
       "\n",
       "    .dataframe thead th {\n",
       "        text-align: right;\n",
       "    }\n",
       "</style>\n",
       "<table border=\"1\" class=\"dataframe\">\n",
       "  <thead>\n",
       "    <tr style=\"text-align: right;\">\n",
       "      <th></th>\n",
       "      <th>Eccentricity</th>\n",
       "      <th>Semimajor Axis (m)</th>\n",
       "      <th>Inclination (deg)</th>\n",
       "      <th>RAAN (deg)</th>\n",
       "      <th>Argument of Periapsis (deg)</th>\n",
       "      <th>True Anomaly (deg)</th>\n",
       "      <th>Latitude (deg)</th>\n",
       "      <th>Longitude (deg)</th>\n",
       "      <th>Altitude (m)</th>\n",
       "      <th>X (m)</th>\n",
       "      <th>...</th>\n",
       "      <th>Vy (m/s)_lag_3</th>\n",
       "      <th>Vy (m/s)_lag_4</th>\n",
       "      <th>Vy (m/s)_lag_5</th>\n",
       "      <th>Vz (m/s)_lag_1</th>\n",
       "      <th>Vz (m/s)_lag_2</th>\n",
       "      <th>Vz (m/s)_lag_3</th>\n",
       "      <th>Vz (m/s)_lag_4</th>\n",
       "      <th>Vz (m/s)_lag_5</th>\n",
       "      <th>EW_encoded</th>\n",
       "      <th>NS_encoded</th>\n",
       "    </tr>\n",
       "  </thead>\n",
       "  <tbody>\n",
       "    <tr>\n",
       "      <th>count</th>\n",
       "      <td>490416.000000</td>\n",
       "      <td>4.904160e+05</td>\n",
       "      <td>490416.000000</td>\n",
       "      <td>490416.000000</td>\n",
       "      <td>490416.000000</td>\n",
       "      <td>490416.000000</td>\n",
       "      <td>490416.000000</td>\n",
       "      <td>490416.000000</td>\n",
       "      <td>4.904160e+05</td>\n",
       "      <td>4.904160e+05</td>\n",
       "      <td>...</td>\n",
       "      <td>490416.000000</td>\n",
       "      <td>490416.000000</td>\n",
       "      <td>490416.000000</td>\n",
       "      <td>490416.000000</td>\n",
       "      <td>490416.000000</td>\n",
       "      <td>490416.000000</td>\n",
       "      <td>490416.000000</td>\n",
       "      <td>490416.000000</td>\n",
       "      <td>490416.000000</td>\n",
       "      <td>490416.000000</td>\n",
       "    </tr>\n",
       "    <tr>\n",
       "      <th>mean</th>\n",
       "      <td>0.000788</td>\n",
       "      <td>4.217757e+07</td>\n",
       "      <td>0.319612</td>\n",
       "      <td>94.546775</td>\n",
       "      <td>153.566959</td>\n",
       "      <td>157.007251</td>\n",
       "      <td>0.000264</td>\n",
       "      <td>3.975092</td>\n",
       "      <td>3.579828e+07</td>\n",
       "      <td>3.392685e+04</td>\n",
       "      <td>...</td>\n",
       "      <td>2.619342</td>\n",
       "      <td>2.805630</td>\n",
       "      <td>3.007801</td>\n",
       "      <td>0.003455</td>\n",
       "      <td>0.003282</td>\n",
       "      <td>0.002393</td>\n",
       "      <td>0.001013</td>\n",
       "      <td>-0.000499</td>\n",
       "      <td>4.365867</td>\n",
       "      <td>3.862615</td>\n",
       "    </tr>\n",
       "    <tr>\n",
       "      <th>std</th>\n",
       "      <td>0.001416</td>\n",
       "      <td>8.021291e+04</td>\n",
       "      <td>0.947654</td>\n",
       "      <td>20.348750</td>\n",
       "      <td>87.543372</td>\n",
       "      <td>121.468652</td>\n",
       "      <td>0.687319</td>\n",
       "      <td>90.255047</td>\n",
       "      <td>9.366163e+04</td>\n",
       "      <td>2.982186e+07</td>\n",
       "      <td>...</td>\n",
       "      <td>2174.103808</td>\n",
       "      <td>2174.172672</td>\n",
       "      <td>2174.191274</td>\n",
       "      <td>37.750647</td>\n",
       "      <td>37.748228</td>\n",
       "      <td>37.752192</td>\n",
       "      <td>37.757478</td>\n",
       "      <td>37.757729</td>\n",
       "      <td>2.176299</td>\n",
       "      <td>2.300710</td>\n",
       "    </tr>\n",
       "    <tr>\n",
       "      <th>min</th>\n",
       "      <td>0.000001</td>\n",
       "      <td>4.171377e+07</td>\n",
       "      <td>0.042754</td>\n",
       "      <td>41.693890</td>\n",
       "      <td>0.000645</td>\n",
       "      <td>-179.994062</td>\n",
       "      <td>-9.873823</td>\n",
       "      <td>-179.997628</td>\n",
       "      <td>3.515185e+07</td>\n",
       "      <td>-4.254933e+07</td>\n",
       "      <td>...</td>\n",
       "      <td>-3107.831169</td>\n",
       "      <td>-3107.831169</td>\n",
       "      <td>-3107.831169</td>\n",
       "      <td>-531.699273</td>\n",
       "      <td>-531.699273</td>\n",
       "      <td>-531.699273</td>\n",
       "      <td>-531.699273</td>\n",
       "      <td>-531.699273</td>\n",
       "      <td>0.000000</td>\n",
       "      <td>0.000000</td>\n",
       "    </tr>\n",
       "    <tr>\n",
       "      <th>25%</th>\n",
       "      <td>0.000240</td>\n",
       "      <td>4.216509e+07</td>\n",
       "      <td>0.133175</td>\n",
       "      <td>87.480692</td>\n",
       "      <td>84.479984</td>\n",
       "      <td>62.349893</td>\n",
       "      <td>-0.025098</td>\n",
       "      <td>-71.123787</td>\n",
       "      <td>3.577824e+07</td>\n",
       "      <td>-2.978460e+07</td>\n",
       "      <td>...</td>\n",
       "      <td>-2172.758695</td>\n",
       "      <td>-2172.971091</td>\n",
       "      <td>-2172.926234</td>\n",
       "      <td>-5.758896</td>\n",
       "      <td>-5.759256</td>\n",
       "      <td>-5.760162</td>\n",
       "      <td>-5.761594</td>\n",
       "      <td>-5.762400</td>\n",
       "      <td>4.000000</td>\n",
       "      <td>3.000000</td>\n",
       "    </tr>\n",
       "    <tr>\n",
       "      <th>50%</th>\n",
       "      <td>0.000340</td>\n",
       "      <td>4.216592e+07</td>\n",
       "      <td>0.152986</td>\n",
       "      <td>94.313451</td>\n",
       "      <td>141.173982</td>\n",
       "      <td>154.885788</td>\n",
       "      <td>0.000308</td>\n",
       "      <td>-7.003029</td>\n",
       "      <td>3.578776e+07</td>\n",
       "      <td>8.512909e+04</td>\n",
       "      <td>...</td>\n",
       "      <td>7.726708</td>\n",
       "      <td>8.233053</td>\n",
       "      <td>8.368132</td>\n",
       "      <td>0.003148</td>\n",
       "      <td>-0.001125</td>\n",
       "      <td>-0.002774</td>\n",
       "      <td>-0.003961</td>\n",
       "      <td>-0.004529</td>\n",
       "      <td>5.000000</td>\n",
       "      <td>4.000000</td>\n",
       "    </tr>\n",
       "    <tr>\n",
       "      <th>75%</th>\n",
       "      <td>0.000528</td>\n",
       "      <td>4.216674e+07</td>\n",
       "      <td>0.184750</td>\n",
       "      <td>99.688564</td>\n",
       "      <td>206.160288</td>\n",
       "      <td>261.318906</td>\n",
       "      <td>0.025614</td>\n",
       "      <td>42.027966</td>\n",
       "      <td>3.579699e+07</td>\n",
       "      <td>2.985423e+07</td>\n",
       "      <td>...</td>\n",
       "      <td>2176.062969</td>\n",
       "      <td>2176.062969</td>\n",
       "      <td>2176.062969</td>\n",
       "      <td>5.763558</td>\n",
       "      <td>5.760977</td>\n",
       "      <td>5.757522</td>\n",
       "      <td>5.755195</td>\n",
       "      <td>5.752886</td>\n",
       "      <td>5.000000</td>\n",
       "      <td>6.000000</td>\n",
       "    </tr>\n",
       "    <tr>\n",
       "      <th>max</th>\n",
       "      <td>0.007778</td>\n",
       "      <td>4.260272e+07</td>\n",
       "      <td>9.970447</td>\n",
       "      <td>354.167229</td>\n",
       "      <td>359.998736</td>\n",
       "      <td>359.999155</td>\n",
       "      <td>9.874416</td>\n",
       "      <td>359.782205</td>\n",
       "      <td>3.633733e+07</td>\n",
       "      <td>4.258594e+07</td>\n",
       "      <td>...</td>\n",
       "      <td>3094.457324</td>\n",
       "      <td>3094.457324</td>\n",
       "      <td>3094.457324</td>\n",
       "      <td>532.071842</td>\n",
       "      <td>532.071842</td>\n",
       "      <td>532.071842</td>\n",
       "      <td>532.071842</td>\n",
       "      <td>532.071842</td>\n",
       "      <td>8.000000</td>\n",
       "      <td>7.000000</td>\n",
       "    </tr>\n",
       "  </tbody>\n",
       "</table>\n",
       "<p>8 rows × 94 columns</p>\n",
       "</div>"
      ],
      "text/plain": [
       "        Eccentricity  Semimajor Axis (m)  Inclination (deg)     RAAN (deg)  \\\n",
       "count  490416.000000        4.904160e+05      490416.000000  490416.000000   \n",
       "mean        0.000788        4.217757e+07           0.319612      94.546775   \n",
       "std         0.001416        8.021291e+04           0.947654      20.348750   \n",
       "min         0.000001        4.171377e+07           0.042754      41.693890   \n",
       "25%         0.000240        4.216509e+07           0.133175      87.480692   \n",
       "50%         0.000340        4.216592e+07           0.152986      94.313451   \n",
       "75%         0.000528        4.216674e+07           0.184750      99.688564   \n",
       "max         0.007778        4.260272e+07           9.970447     354.167229   \n",
       "\n",
       "       Argument of Periapsis (deg)  True Anomaly (deg)  Latitude (deg)  \\\n",
       "count                490416.000000       490416.000000   490416.000000   \n",
       "mean                    153.566959          157.007251        0.000264   \n",
       "std                      87.543372          121.468652        0.687319   \n",
       "min                       0.000645         -179.994062       -9.873823   \n",
       "25%                      84.479984           62.349893       -0.025098   \n",
       "50%                     141.173982          154.885788        0.000308   \n",
       "75%                     206.160288          261.318906        0.025614   \n",
       "max                     359.998736          359.999155        9.874416   \n",
       "\n",
       "       Longitude (deg)  Altitude (m)         X (m)  ...  Vy (m/s)_lag_3  \\\n",
       "count    490416.000000  4.904160e+05  4.904160e+05  ...   490416.000000   \n",
       "mean          3.975092  3.579828e+07  3.392685e+04  ...        2.619342   \n",
       "std          90.255047  9.366163e+04  2.982186e+07  ...     2174.103808   \n",
       "min        -179.997628  3.515185e+07 -4.254933e+07  ...    -3107.831169   \n",
       "25%         -71.123787  3.577824e+07 -2.978460e+07  ...    -2172.758695   \n",
       "50%          -7.003029  3.578776e+07  8.512909e+04  ...        7.726708   \n",
       "75%          42.027966  3.579699e+07  2.985423e+07  ...     2176.062969   \n",
       "max         359.782205  3.633733e+07  4.258594e+07  ...     3094.457324   \n",
       "\n",
       "       Vy (m/s)_lag_4  Vy (m/s)_lag_5  Vz (m/s)_lag_1  Vz (m/s)_lag_2  \\\n",
       "count   490416.000000   490416.000000   490416.000000   490416.000000   \n",
       "mean         2.805630        3.007801        0.003455        0.003282   \n",
       "std       2174.172672     2174.191274       37.750647       37.748228   \n",
       "min      -3107.831169    -3107.831169     -531.699273     -531.699273   \n",
       "25%      -2172.971091    -2172.926234       -5.758896       -5.759256   \n",
       "50%          8.233053        8.368132        0.003148       -0.001125   \n",
       "75%       2176.062969     2176.062969        5.763558        5.760977   \n",
       "max       3094.457324     3094.457324      532.071842      532.071842   \n",
       "\n",
       "       Vz (m/s)_lag_3  Vz (m/s)_lag_4  Vz (m/s)_lag_5     EW_encoded  \\\n",
       "count   490416.000000   490416.000000   490416.000000  490416.000000   \n",
       "mean         0.002393        0.001013       -0.000499       4.365867   \n",
       "std         37.752192       37.757478       37.757729       2.176299   \n",
       "min       -531.699273     -531.699273     -531.699273       0.000000   \n",
       "25%         -5.760162       -5.761594       -5.762400       4.000000   \n",
       "50%         -0.002774       -0.003961       -0.004529       5.000000   \n",
       "75%          5.757522        5.755195        5.752886       5.000000   \n",
       "max        532.071842      532.071842      532.071842       8.000000   \n",
       "\n",
       "          NS_encoded  \n",
       "count  490416.000000  \n",
       "mean        3.862615  \n",
       "std         2.300710  \n",
       "min         0.000000  \n",
       "25%         3.000000  \n",
       "50%         4.000000  \n",
       "75%         6.000000  \n",
       "max         7.000000  \n",
       "\n",
       "[8 rows x 94 columns]"
      ]
     },
     "execution_count": 10,
     "metadata": {},
     "output_type": "execute_result"
    }
   ],
   "source": [
    "train_data.describe()"
   ]
  },
  {
   "cell_type": "markdown",
   "id": "45200055-fdc7-4de9-a02e-f853993fe527",
   "metadata": {},
   "source": [
    "# Outlier detection section"
   ]
  },
  {
   "cell_type": "code",
   "execution_count": 12,
   "id": "1113130b-fa01-4944-a934-e3daec577cc4",
   "metadata": {},
   "outputs": [],
   "source": [
    "outliers_detected = utils2.detect_outliers_IQR(train_data,feature_cols)"
   ]
  },
  {
   "cell_type": "code",
   "execution_count": 13,
   "id": "c1a5c47e-62c6-409e-8557-0bfaf21b6940",
   "metadata": {},
   "outputs": [
    {
     "data": {
      "text/plain": [
       "{'Eccentricity': 49147,\n",
       " 'Semimajor Axis (m)': 84675,\n",
       " 'Inclination (deg)': 74804,\n",
       " 'RAAN (deg)': 16216,\n",
       " 'Argument of Periapsis (deg)': 0,\n",
       " 'True Anomaly (deg)': 0,\n",
       " 'Latitude (deg)': 62464,\n",
       " 'Longitude (deg)': 18918,\n",
       " 'Altitude (m)': 56843,\n",
       " 'X (m)': 0,\n",
       " 'Y (m)': 0,\n",
       " 'Z (m)': 21662,\n",
       " 'Vx (m/s)': 0,\n",
       " 'Vy (m/s)': 0,\n",
       " 'Vz (m/s)': 21647}"
      ]
     },
     "execution_count": 13,
     "metadata": {},
     "output_type": "execute_result"
    }
   ],
   "source": [
    "outliers_detected"
   ]
  },
  {
   "cell_type": "code",
   "execution_count": 16,
   "id": "2cb3c6ba-8319-450d-8456-6c789c13040a",
   "metadata": {},
   "outputs": [],
   "source": [
    "outlier_notes = \"These could be outliers due to equipement malfunction or erroneous sensor readings/artifacts, but its highly probable it may\\n not be\\\n",
    "the case. The conclusion is to use MinMax scaler to minimize the impact of outliers.\""
   ]
  },
  {
   "cell_type": "markdown",
   "id": "cecdd23b-34f1-4330-b0a5-6a0441109334",
   "metadata": {},
   "source": [
    "# Outlier detection section end"
   ]
  },
  {
   "cell_type": "code",
   "execution_count": 55,
   "id": "f21bbfbd-853e-4cf1-b63d-5fd9ae18d3b5",
   "metadata": {},
   "outputs": [
    {
     "data": {
      "image/png": "[encoded data removed]",
      "text/plain": [
       "<Figure size 640x480 with 1 Axes>"
      ]
     },
     "metadata": {},
     "output_type": "display_data"
    }
   ],
   "source": [
    "train_data['EW'].value_counts().plot(kind=\"bar\")\n",
    "plt.xticks(rotation=45)\n",
    "plt.show()"
   ]
  },
  {
   "cell_type": "code",
   "execution_count": 56,
   "id": "1cd2accc-54de-4f6c-889d-ffd86a6100f2",
   "metadata": {},
   "outputs": [
    {
     "data": {
      "image/png": "[encoded data removed]",
      "text/plain": [
       "<Figure size 640x480 with 1 Axes>"
      ]
     },
     "metadata": {},
     "output_type": "display_data"
    }
   ],
   "source": [
    "train_data['NS'].value_counts().plot(kind=\"bar\")\n",
    "plt.xticks(rotation=45)\n",
    "plt.show()"
   ]
  },
  {
   "cell_type": "markdown",
   "id": "c643aac1-6907-493e-acfb-e3bc6a20e078",
   "metadata": {},
   "source": [
    "# Data Preparation"
   ]
  },
  {
   "cell_type": "code",
   "execution_count": 10,
   "id": "853bee2b-2e26-488f-b561-3e6403bde9a3",
   "metadata": {},
   "outputs": [],
   "source": [
    "train_data_list = train_data.drop(columns=['ObjectID','TimeIndex']).iloc[:,:-4].values"
   ]
  },
  {
   "cell_type": "code",
   "execution_count": 11,
   "id": "0d175105-687e-4687-a6e7-cde8391512be",
   "metadata": {},
   "outputs": [],
   "source": [
    "label_data_EW = train_data.iloc[:,-2].values\n",
    "label_data_NS = train_data.iloc[:,-1].values"
   ]
  },
  {
   "cell_type": "code",
   "execution_count": 12,
   "id": "ff9d6e6b-88ae-47d5-9bf0-082e7663454c",
   "metadata": {},
   "outputs": [],
   "source": [
    "train_data_EW_X, test_data_EW_X, train_data_EW_Y, test_data_EW_Y = train_test_split(train_data_list, label_data_EW, test_size = 0.2,\\\n",
    "                                                                                                   random_state = 123, shuffle = False)\n",
    "train_data_NS_X, test_data_NS_X, train_data_NS_Y, test_data_NS_Y = train_test_split(train_data_list, label_data_NS, test_size = 0.2,\\\n",
    "                                                                                                   random_state = 123, shuffle = False)"
   ]
  },
  {
   "cell_type": "code",
   "execution_count": 13,
   "id": "ce3141b8-dc82-4592-a939-05b78e2ffb4c",
   "metadata": {},
   "outputs": [],
   "source": [
    "smote = SMOTE()"
   ]
  },
  {
   "cell_type": "code",
   "execution_count": 14,
   "id": "358771d7-8012-4983-bea6-736e2df78e5a",
   "metadata": {},
   "outputs": [],
   "source": [
    "# balance the dataset\n",
    "train_data_EW_X_bal, train_data_EW_Y_bal = smote.fit_resample(train_data_EW_X,train_data_EW_Y)\n",
    "train_data_NS_X_bal, train_data_NS_Y_bal = smote.fit_resample(train_data_NS_X,train_data_NS_Y)"
   ]
  },
  {
   "cell_type": "code",
   "execution_count": 15,
   "id": "bff3b787-e4b2-4c41-98c4-871581287c20",
   "metadata": {},
   "outputs": [],
   "source": [
    "EW_balanced_labels = le_EW.inverse_transform(train_data_EW_Y_bal)\n",
    "NS_balanced_labels = le_EW.inverse_transform(train_data_NS_Y_bal)"
   ]
  },
  {
   "cell_type": "code",
   "execution_count": 16,
   "id": "fb00f311-51e0-4e35-a97d-c8e693cace67",
   "metadata": {},
   "outputs": [
    {
     "data": {
      "image/png": "[encoded data removed]",
      "text/plain": [
       "<Figure size 640x480 with 1 Axes>"
      ]
     },
     "metadata": {},
     "output_type": "display_data"
    }
   ],
   "source": [
    "EW_labels = pd.DataFrame()\n",
    "EW_labels['EW']=EW_balanced_labels\n",
    "#balanced_labels['NS']=NS_balanced_labels\n",
    "EW_labels['EW'].value_counts().plot(kind=\"bar\")\n",
    "plt.xticks(rotation=45)\n",
    "plt.show()"
   ]
  },
  {
   "cell_type": "code",
   "execution_count": 17,
   "id": "705f2d27-ae24-4b57-8b49-08ecf9d30e89",
   "metadata": {},
   "outputs": [
    {
     "data": {
      "image/png": "[encoded data removed]",
      "text/plain": [
       "<Figure size 640x480 with 1 Axes>"
      ]
     },
     "metadata": {},
     "output_type": "display_data"
    }
   ],
   "source": [
    "NS_labels = pd.DataFrame()\n",
    "NS_labels['NS']=NS_balanced_labels\n",
    "#balanced_labels['NS']=NS_balanced_labels\n",
    "NS_labels['NS'].value_counts().plot(kind=\"bar\")\n",
    "plt.xticks(rotation=45)\n",
    "plt.show()"
   ]
  },
  {
   "cell_type": "code",
   "execution_count": 18,
   "id": "b9cc41c7-0037-40d5-987f-24c2bd751e0e",
   "metadata": {},
   "outputs": [],
   "source": [
    "#initialize StandardScaler\n",
    "scaler = MinMaxScaler()"
   ]
  },
  {
   "cell_type": "code",
   "execution_count": 19,
   "id": "05c96fed-92d2-4e9b-8c05-a359dd438763",
   "metadata": {},
   "outputs": [],
   "source": [
    "# Standardize the data\n",
    "train_data_EW_X_bal = scaler.fit_transform(train_data_EW_X_bal)\n",
    "train_data_NS_X_bal = scaler.fit_transform(train_data_NS_X_bal)\n",
    "test_data_EW_X = scaler.fit_transform(test_data_EW_X)\n",
    "test_data_NS_X = scaler.fit_transform(test_data_NS_X)"
   ]
  },
  {
   "cell_type": "code",
   "execution_count": 20,
   "id": "fab99814-68f1-465a-9223-e104c0d6c3e1",
   "metadata": {},
   "outputs": [],
   "source": [
    "from tensorflow.keras.preprocessing.sequence import TimeseriesGenerator"
   ]
  },
  {
   "cell_type": "code",
   "execution_count": 21,
   "id": "27d9dde6-ccb6-4fa4-8e98-4fc0170f6709",
   "metadata": {},
   "outputs": [],
   "source": [
    "sequence_length = 1000 # take a month's worth of observations as sequence\n",
    "feature_length = train_data_EW_X_bal.shape[1] # number of features in the dataset\n",
    "batch_size = 100"
   ]
  },
  {
   "cell_type": "code",
   "execution_count": 22,
   "id": "5d313fcd-00cc-4e99-86c2-e11c60198463",
   "metadata": {},
   "outputs": [],
   "source": [
    "# create LSTM sequences inputs out of given data using keras TimeseriesGenerator module\n",
    "train_data_X_EW_sequences = TimeseriesGenerator(train_data_EW_X_bal,train_data_EW_Y_bal,length = sequence_length,batch_size=batch_size)\n",
    "train_data_X_NS_sequences = TimeseriesGenerator(train_data_NS_X_bal,train_data_NS_Y_bal,length = sequence_length,batch_size=batch_size)\n",
    "test_data_X_EW_sequences = TimeseriesGenerator(test_data_EW_X,test_data_EW_Y,length = sequence_length,batch_size=batch_size)\n",
    "test_data_X_NS_sequences = TimeseriesGenerator(test_data_NS_X,test_data_NS_Y,length = sequence_length,batch_size=batch_size)"
   ]
  },
  {
   "cell_type": "code",
   "execution_count": 20,
   "id": "a017ff3c-4528-4bda-a4d1-49b31280c670",
   "metadata": {},
   "outputs": [],
   "source": [
    "# create LSTM sequences inputs out of given data from my custom function\n",
    "train_data_X_EW_sequences = utils2.create_sequences(train_data_X_EW_balanced,sequence_length1)\n",
    "train_data_X_NS_sequences = utils2.create_sequences(train_data_X_NS_balanced,sequence_length2)\n",
    "train_data_Y_EW_sequences = utils2.create_sequences(train_data_Y_EW_balanced,sequence_length1)\n",
    "train_data_Y_NS_sequences = utils2.create_sequences(train_data_Y_NS_balanced,sequence_length2)"
   ]
  },
  {
   "cell_type": "code",
   "execution_count": 56,
   "id": "4a548566-8f42-409e-bbcd-bccd6ac742ba",
   "metadata": {},
   "outputs": [
    {
     "ename": "ValueError",
     "evalue": "cannot reshape array of size 197491770 into shape (9753,225,90)",
     "output_type": "error",
     "traceback": [
      "\u001b[1;31m---------------------------------------------------------------------------\u001b[0m",
      "\u001b[1;31mValueError\u001b[0m                                Traceback (most recent call last)",
      "Cell \u001b[1;32mIn[56], line 2\u001b[0m\n\u001b[0;32m      1\u001b[0m \u001b[38;5;66;03m# Reshape the data for LSTM input (samples, time steps, features)\u001b[39;00m\n\u001b[1;32m----> 2\u001b[0m train_data_X_EW_balanced1 \u001b[38;5;241m=\u001b[39m \u001b[43mtrain_data_X_EW_balanced\u001b[49m\u001b[38;5;241;43m.\u001b[39;49m\u001b[43mreshape\u001b[49m\u001b[43m(\u001b[49m\u001b[43m(\u001b[49m\u001b[43msequence_length1\u001b[49m\u001b[43m,\u001b[49m\u001b[38;5;241;43m225\u001b[39;49m\u001b[43m,\u001b[49m\u001b[43mtrain_data_X_EW_balanced\u001b[49m\u001b[38;5;241;43m.\u001b[39;49m\u001b[43mshape\u001b[49m\u001b[43m[\u001b[49m\u001b[38;5;241;43m1\u001b[39;49m\u001b[43m]\u001b[49m\u001b[43m)\u001b[49m\u001b[43m)\u001b[49m\n\u001b[0;32m      3\u001b[0m \u001b[38;5;66;03m#train_data_X_NS_balanced1 = train_data_X_NS_balanced.reshape((train_data_X_NS_balanced.shape[0],1,train_data_X_NS_balanced.shape[1]))\u001b[39;00m\n",
      "\u001b[1;31mValueError\u001b[0m: cannot reshape array of size 197491770 into shape (9753,225,90)"
     ]
    }
   ],
   "source": [
    "# Reshape the data for LSTM input (samples, time steps, features)\n",
    "train_data_X_EW_balanced1 = train_data_X_EW_balanced.reshape((sequence_length1,225,train_data_X_EW_balanced.shape[1]))\n",
    "train_data_X_NS_balanced1 = train_data_X_NS_balanced.reshape((train_data_X_NS_balanced.shape[0],1,train_data_X_NS_balanced.shape[1]))"
   ]
  },
  {
   "cell_type": "code",
   "execution_count": 23,
   "id": "627863fb-b25c-4c30-b039-b29cec475972",
   "metadata": {},
   "outputs": [],
   "source": [
    "# Build the LSTM model for multi-class classification of EW data\n",
    "EW_model = Sequential()\n",
    "EW_model.add(LSTM(50, return_sequences=True,input_shape=(sequence_length,feature_length)))\n",
    "EW_model.add(Dropout(0.2))\n",
    "EW_model.add(LSTM(50, return_sequences=False))\n",
    "EW_model.add(Dropout(0.2))\n",
    "EW_model.add(Dense(len(EW_labels['EW'].unique()), activation='softmax'))  # Output layer for multi-class classification"
   ]
  },
  {
   "cell_type": "code",
   "execution_count": 24,
   "id": "e86c093c-aa70-47f6-9b96-d75f53a9d766",
   "metadata": {},
   "outputs": [],
   "source": [
    "# Compile the model\n",
    "EW_model.compile(optimizer='adam', loss='sparse_categorical_crossentropy', metrics=['accuracy'])"
   ]
  },
  {
   "cell_type": "code",
   "execution_count": 63,
   "id": "0678fdf7-e6db-4679-8b0a-1b5be60884ef",
   "metadata": {},
   "outputs": [
    {
     "name": "stdout",
     "output_type": "stream",
     "text": [
      "Model: \"sequential_2\"\n",
      "_________________________________________________________________\n",
      " Layer (type)                Output Shape              Param #   \n",
      "=================================================================\n",
      " lstm_4 (LSTM)               (None, 1000, 50)          28200     \n",
      "                                                                 \n",
      " dropout_4 (Dropout)         (None, 1000, 50)          0         \n",
      "                                                                 \n",
      " lstm_5 (LSTM)               (None, 50)                20200     \n",
      "                                                                 \n",
      " dropout_5 (Dropout)         (None, 50)                0         \n",
      "                                                                 \n",
      " dense_2 (Dense)             (None, 9)                 459       \n",
      "                                                                 \n",
      "=================================================================\n",
      "Total params: 48859 (190.86 KB)\n",
      "Trainable params: 48859 (190.86 KB)\n",
      "Non-trainable params: 0 (0.00 Byte)\n",
      "_________________________________________________________________\n"
     ]
    }
   ],
   "source": [
    "EW_model.summary()"
   ]
  },
  {
   "cell_type": "code",
   "execution_count": null,
   "id": "51351c88-6a71-47a1-afe3-b624dc42a7ae",
   "metadata": {},
   "outputs": [
    {
     "name": "stdout",
     "output_type": "stream",
     "text": [
      "Epoch 1/10\n",
      "13106/13106 [==============================] - 3021s 229ms/step - loss: 0.3698 - accuracy: 0.8844 - val_loss: 11.4007 - val_accuracy: 0.0000e+00\n",
      "Epoch 2/10\n",
      "13106/13106 [==============================] - 2974s 227ms/step - loss: 0.3776 - accuracy: 0.8856 - val_loss: 14.1928 - val_accuracy: 0.0000e+00\n",
      "Epoch 3/10\n",
      " 9017/13106 [===================>..........] - ETA: 15:04 - loss: 0.5064 - accuracy: 0.8418"
     ]
    }
   ],
   "source": [
    "#Train the model\n",
    "history_EW = EW_model.fit(train_data_X_EW_sequences,validation_data = test_data_X_EW_sequences, epochs=10, shuffle = False)"
   ]
  },
  {
   "cell_type": "code",
   "execution_count": 40,
   "id": "4bdd858a-e8ce-4888-b7db-5123effea064",
   "metadata": {},
   "outputs": [],
   "source": [
    "valid_data_X = valid_data.iloc[:,:-2].values"
   ]
  },
  {
   "cell_type": "code",
   "execution_count": 41,
   "id": "1502d6a0-7f55-438f-b930-97b75bfcbaf3",
   "metadata": {},
   "outputs": [],
   "source": [
    "valid_data_X = scaler.fit_transform(valid_data_X)\n",
    "valid_data_X = valid_data_X.reshape((valid_data_X.shape[0],1,valid_data_X.shape[1]))"
   ]
  },
  {
   "cell_type": "code",
   "execution_count": 42,
   "id": "fe7ef446-841f-4896-9f7e-4ee7e4738824",
   "metadata": {},
   "outputs": [
    {
     "name": "stdout",
     "output_type": "stream",
     "text": [
      "1702/1702 [==============================] - 5s 2ms/step\n"
     ]
    }
   ],
   "source": [
    "# Make predictions\n",
    "predictions = EW_model.predict(valid_data_X)\n",
    "\n",
    "# If it's a classification model, convert probabilities to class labels\n",
    "predicted_classes = np.argmax(predictions, axis=1)  # For multi-class classification\n",
    "# For binary classification, you might use a threshold like 0.5 to convert probabilities to 0 or 1\n",
    "\n",
    "# If you used label encoding, convert the numerical labels back to original labels\n",
    "predicted_labels = le_EW.inverse_transform(predicted_classes)\n"
   ]
  },
  {
   "cell_type": "code",
   "execution_count": 43,
   "id": "e2a2652b-85aa-441b-b747-21ce2ddc1740",
   "metadata": {},
   "outputs": [
    {
     "data": {
      "text/plain": [
       "array(['SS-NK', 'SS-NK', 'SS-NK', ..., 'IK-CK', 'IK-CK', 'SS-NK'],\n",
       "      dtype=object)"
      ]
     },
     "execution_count": 43,
     "metadata": {},
     "output_type": "execute_result"
    }
   ],
   "source": [
    "predicted_labels"
   ]
  },
  {
   "cell_type": "code",
   "execution_count": 44,
   "id": "bda6e9a7-75e3-4e2b-996c-21d2e23e905a",
   "metadata": {},
   "outputs": [],
   "source": [
    "valid_data['Predicted_EW'] = predicted_labels"
   ]
  },
  {
   "cell_type": "code",
   "execution_count": 45,
   "id": "9cf552f7-052c-4b06-88c4-9de38f2e2479",
   "metadata": {},
   "outputs": [
    {
     "data": {
      "text/html": [
       "<div>\n",
       "<style scoped>\n",
       "    .dataframe tbody tr th:only-of-type {\n",
       "        vertical-align: middle;\n",
       "    }\n",
       "\n",
       "    .dataframe tbody tr th {\n",
       "        vertical-align: top;\n",
       "    }\n",
       "\n",
       "    .dataframe thead th {\n",
       "        text-align: right;\n",
       "    }\n",
       "</style>\n",
       "<table border=\"1\" class=\"dataframe\">\n",
       "  <thead>\n",
       "    <tr style=\"text-align: right;\">\n",
       "      <th></th>\n",
       "      <th>Eccentricity</th>\n",
       "      <th>Semimajor Axis (m)</th>\n",
       "      <th>Inclination (deg)</th>\n",
       "      <th>RAAN (deg)</th>\n",
       "      <th>Argument of Periapsis (deg)</th>\n",
       "      <th>True Anomaly (deg)</th>\n",
       "      <th>Latitude (deg)</th>\n",
       "      <th>Longitude (deg)</th>\n",
       "      <th>Altitude (m)</th>\n",
       "      <th>X (m)</th>\n",
       "      <th>...</th>\n",
       "      <th>Vy (m/s)_lag_4</th>\n",
       "      <th>Vy (m/s)_lag_5</th>\n",
       "      <th>Vz (m/s)_lag_1</th>\n",
       "      <th>Vz (m/s)_lag_2</th>\n",
       "      <th>Vz (m/s)_lag_3</th>\n",
       "      <th>Vz (m/s)_lag_4</th>\n",
       "      <th>Vz (m/s)_lag_5</th>\n",
       "      <th>EW</th>\n",
       "      <th>NS</th>\n",
       "      <th>Predicted_EW</th>\n",
       "    </tr>\n",
       "  </thead>\n",
       "  <tbody>\n",
       "    <tr>\n",
       "      <th>0</th>\n",
       "      <td>0.000141</td>\n",
       "      <td>4.224428e+07</td>\n",
       "      <td>0.150051</td>\n",
       "      <td>104.366296</td>\n",
       "      <td>48.629370</td>\n",
       "      <td>139.374252</td>\n",
       "      <td>0.025175</td>\n",
       "      <td>-65.223070</td>\n",
       "      <td>3.587068e+07</td>\n",
       "      <td>1.607924e+07</td>\n",
       "      <td>...</td>\n",
       "      <td>1168.669376</td>\n",
       "      <td>1168.669376</td>\n",
       "      <td>-7.965409</td>\n",
       "      <td>-7.965409</td>\n",
       "      <td>-7.965409</td>\n",
       "      <td>-7.965409</td>\n",
       "      <td>-7.965409</td>\n",
       "      <td>SS-NK</td>\n",
       "      <td>SS-NK</td>\n",
       "      <td>SS-NK</td>\n",
       "    </tr>\n",
       "    <tr>\n",
       "      <th>1</th>\n",
       "      <td>0.000138</td>\n",
       "      <td>4.224424e+07</td>\n",
       "      <td>0.150422</td>\n",
       "      <td>104.424876</td>\n",
       "      <td>43.956562</td>\n",
       "      <td>173.977589</td>\n",
       "      <td>0.005561</td>\n",
       "      <td>-65.316101</td>\n",
       "      <td>3.587189e+07</td>\n",
       "      <td>3.345573e+07</td>\n",
       "      <td>...</td>\n",
       "      <td>1168.669376</td>\n",
       "      <td>1168.669376</td>\n",
       "      <td>-7.965409</td>\n",
       "      <td>-7.965409</td>\n",
       "      <td>-7.965409</td>\n",
       "      <td>-7.965409</td>\n",
       "      <td>-7.965409</td>\n",
       "      <td>SS-NK</td>\n",
       "      <td>SS-NK</td>\n",
       "      <td>SS-NK</td>\n",
       "    </tr>\n",
       "    <tr>\n",
       "      <th>2</th>\n",
       "      <td>0.000148</td>\n",
       "      <td>4.224391e+07</td>\n",
       "      <td>0.150598</td>\n",
       "      <td>104.508808</td>\n",
       "      <td>39.059683</td>\n",
       "      <td>208.779144</td>\n",
       "      <td>-0.015721</td>\n",
       "      <td>-65.409636</td>\n",
       "      <td>3.587126e+07</td>\n",
       "      <td>4.187300e+07</td>\n",
       "      <td>...</td>\n",
       "      <td>1168.669376</td>\n",
       "      <td>1168.669376</td>\n",
       "      <td>-6.359744</td>\n",
       "      <td>-7.965409</td>\n",
       "      <td>-7.965409</td>\n",
       "      <td>-7.965409</td>\n",
       "      <td>-7.965409</td>\n",
       "      <td>SS-NK</td>\n",
       "      <td>SS-NK</td>\n",
       "      <td>SS-NK</td>\n",
       "    </tr>\n",
       "    <tr>\n",
       "      <th>3</th>\n",
       "      <td>0.000167</td>\n",
       "      <td>4.224357e+07</td>\n",
       "      <td>0.150618</td>\n",
       "      <td>104.537452</td>\n",
       "      <td>36.298070</td>\n",
       "      <td>241.502804</td>\n",
       "      <td>-0.032891</td>\n",
       "      <td>-65.501081</td>\n",
       "      <td>3.586880e+07</td>\n",
       "      <td>3.907641e+07</td>\n",
       "      <td>...</td>\n",
       "      <td>1168.669376</td>\n",
       "      <td>1168.669376</td>\n",
       "      <td>-3.044640</td>\n",
       "      <td>-6.359744</td>\n",
       "      <td>-7.965409</td>\n",
       "      <td>-7.965409</td>\n",
       "      <td>-7.965409</td>\n",
       "      <td>SS-NK</td>\n",
       "      <td>SS-NK</td>\n",
       "      <td>SS-NK</td>\n",
       "    </tr>\n",
       "    <tr>\n",
       "      <th>4</th>\n",
       "      <td>0.000188</td>\n",
       "      <td>4.224362e+07</td>\n",
       "      <td>0.150702</td>\n",
       "      <td>104.473202</td>\n",
       "      <td>34.455987</td>\n",
       "      <td>273.404296</td>\n",
       "      <td>-0.041227</td>\n",
       "      <td>-65.588052</td>\n",
       "      <td>3.586501e+07</td>\n",
       "      <td>2.581318e+07</td>\n",
       "      <td>...</td>\n",
       "      <td>1168.669376</td>\n",
       "      <td>1168.669376</td>\n",
       "      <td>1.097112</td>\n",
       "      <td>-3.044640</td>\n",
       "      <td>-6.359744</td>\n",
       "      <td>-7.965409</td>\n",
       "      <td>-7.965409</td>\n",
       "      <td>SS-NK</td>\n",
       "      <td>SS-NK</td>\n",
       "      <td>SS-NK</td>\n",
       "    </tr>\n",
       "  </tbody>\n",
       "</table>\n",
       "<p>5 rows × 95 columns</p>\n",
       "</div>"
      ],
      "text/plain": [
       "   Eccentricity  Semimajor Axis (m)  Inclination (deg)  RAAN (deg)  \\\n",
       "0      0.000141        4.224428e+07           0.150051  104.366296   \n",
       "1      0.000138        4.224424e+07           0.150422  104.424876   \n",
       "2      0.000148        4.224391e+07           0.150598  104.508808   \n",
       "3      0.000167        4.224357e+07           0.150618  104.537452   \n",
       "4      0.000188        4.224362e+07           0.150702  104.473202   \n",
       "\n",
       "   Argument of Periapsis (deg)  True Anomaly (deg)  Latitude (deg)  \\\n",
       "0                    48.629370          139.374252        0.025175   \n",
       "1                    43.956562          173.977589        0.005561   \n",
       "2                    39.059683          208.779144       -0.015721   \n",
       "3                    36.298070          241.502804       -0.032891   \n",
       "4                    34.455987          273.404296       -0.041227   \n",
       "\n",
       "   Longitude (deg)  Altitude (m)         X (m)  ...  Vy (m/s)_lag_4  \\\n",
       "0       -65.223070  3.587068e+07  1.607924e+07  ...     1168.669376   \n",
       "1       -65.316101  3.587189e+07  3.345573e+07  ...     1168.669376   \n",
       "2       -65.409636  3.587126e+07  4.187300e+07  ...     1168.669376   \n",
       "3       -65.501081  3.586880e+07  3.907641e+07  ...     1168.669376   \n",
       "4       -65.588052  3.586501e+07  2.581318e+07  ...     1168.669376   \n",
       "\n",
       "   Vy (m/s)_lag_5  Vz (m/s)_lag_1  Vz (m/s)_lag_2  Vz (m/s)_lag_3  \\\n",
       "0     1168.669376       -7.965409       -7.965409       -7.965409   \n",
       "1     1168.669376       -7.965409       -7.965409       -7.965409   \n",
       "2     1168.669376       -6.359744       -7.965409       -7.965409   \n",
       "3     1168.669376       -3.044640       -6.359744       -7.965409   \n",
       "4     1168.669376        1.097112       -3.044640       -6.359744   \n",
       "\n",
       "   Vz (m/s)_lag_4  Vz (m/s)_lag_5     EW     NS  Predicted_EW  \n",
       "0       -7.965409       -7.965409  SS-NK  SS-NK         SS-NK  \n",
       "1       -7.965409       -7.965409  SS-NK  SS-NK         SS-NK  \n",
       "2       -7.965409       -7.965409  SS-NK  SS-NK         SS-NK  \n",
       "3       -7.965409       -7.965409  SS-NK  SS-NK         SS-NK  \n",
       "4       -7.965409       -7.965409  SS-NK  SS-NK         SS-NK  \n",
       "\n",
       "[5 rows x 95 columns]"
      ]
     },
     "execution_count": 45,
     "metadata": {},
     "output_type": "execute_result"
    }
   ],
   "source": [
    "valid_data.head()"
   ]
  },
  {
   "cell_type": "code",
   "execution_count": 46,
   "id": "78a022bf-434b-4089-9040-09bf523a0ceb",
   "metadata": {},
   "outputs": [],
   "source": [
    "# Build the LSTM model for multi-class classification NS\n",
    "NS_model = Sequential()\n",
    "NS_model.add(LSTM(50, return_sequences=True,input_shape=(train_data_X_NS_balanced.shape[1], train_data_X_NS_balanced.shape[2])))\n",
    "NS_model.add(Dropout(0.2))\n",
    "NS_model.add(LSTM(50, return_sequences=False))\n",
    "NS_model.add(Dropout(0.2))\n",
    "NS_model.add(Dense(9, activation='softmax'))  # Output layer for multi-class classificatiNS"
   ]
  },
  {
   "cell_type": "code",
   "execution_count": 47,
   "id": "8401aa5a-0864-49fc-b8df-01d670f1d217",
   "metadata": {},
   "outputs": [],
   "source": [
    "# Compile the model\n",
    "NS_model.compile(optimizer='adam', loss='sparse_categorical_crossentropy', metrics=['accuracy'])"
   ]
  },
  {
   "cell_type": "code",
   "execution_count": 48,
   "id": "1761bbd0-1064-4c36-bcf7-5c73104105a6",
   "metadata": {},
   "outputs": [
    {
     "name": "stdout",
     "output_type": "stream",
     "text": [
      "Epoch 1/10\n",
      "39536/39536 [==============================] - 185s 5ms/step - loss: 0.2523 - accuracy: 0.9101 - val_loss: 0.5617 - val_accuracy: 0.8609\n",
      "Epoch 2/10\n",
      "39536/39536 [==============================] - 184s 5ms/step - loss: 0.1488 - accuracy: 0.9449 - val_loss: 0.5226 - val_accuracy: 0.8814\n",
      "Epoch 3/10\n",
      "39536/39536 [==============================] - 181s 5ms/step - loss: 0.1265 - accuracy: 0.9524 - val_loss: 0.5992 - val_accuracy: 0.8820\n",
      "Epoch 4/10\n",
      "39536/39536 [==============================] - 182s 5ms/step - loss: 0.1159 - accuracy: 0.9559 - val_loss: 0.6264 - val_accuracy: 0.8869\n",
      "Epoch 5/10\n",
      "39536/39536 [==============================] - 176s 4ms/step - loss: 0.1097 - accuracy: 0.9582 - val_loss: 0.6286 - val_accuracy: 0.8907\n",
      "Epoch 6/10\n",
      "39536/39536 [==============================] - 177s 4ms/step - loss: 0.1045 - accuracy: 0.9603 - val_loss: 0.6593 - val_accuracy: 0.8901\n",
      "Epoch 7/10\n",
      "39536/39536 [==============================] - 174s 4ms/step - loss: 0.1015 - accuracy: 0.9613 - val_loss: 0.6689 - val_accuracy: 0.8875\n",
      "Epoch 8/10\n",
      "39536/39536 [==============================] - 174s 4ms/step - loss: 0.0985 - accuracy: 0.9625 - val_loss: 0.7087 - val_accuracy: 0.8882\n",
      "Epoch 9/10\n",
      "39536/39536 [==============================] - 175s 4ms/step - loss: 0.0959 - accuracy: 0.9633 - val_loss: 0.6861 - val_accuracy: 0.8933\n",
      "Epoch 10/10\n",
      "39536/39536 [==============================] - 181s 5ms/step - loss: 0.0938 - accuracy: 0.9641 - val_loss: 0.7090 - val_accuracy: 0.8855\n"
     ]
    },
    {
     "data": {
      "text/plain": [
       "<keras.src.callbacks.History at 0x24b788cb460>"
      ]
     },
     "execution_count": 48,
     "metadata": {},
     "output_type": "execute_result"
    }
   ],
   "source": [
    "#Train the model\n",
    "NS_model.fit(train_data_X_NS_balanced, train_data_Y_NS_balanced, epochs=10, batch_size=32,validation_split=0.2)"
   ]
  },
  {
   "cell_type": "code",
   "execution_count": 49,
   "id": "80aaf0f5-9422-4da8-b097-8538a5bbceac",
   "metadata": {},
   "outputs": [
    {
     "name": "stdout",
     "output_type": "stream",
     "text": [
      "1702/1702 [==============================] - 4s 2ms/step\n"
     ]
    }
   ],
   "source": [
    "# Make predictions\n",
    "predictions = NS_model.predict(valid_data_X)\n",
    "\n",
    "# If it's a classification model, convert probabilities to class labels\n",
    "predicted_classes = np.argmax(predictions, axis=1)  # For multi-class classification\n",
    "# For binary classification, you might use a threshold like 0.5 to convert probabilities to 0 or 1\n",
    "\n",
    "# If you used label encoding, convert the numerical labels back to original labels\n",
    "predicted_labels = le_NS.inverse_transform(predicted_classes)\n"
   ]
  },
  {
   "cell_type": "code",
   "execution_count": 50,
   "id": "d85a1665-40b2-4589-bdf8-651421bb30a1",
   "metadata": {},
   "outputs": [],
   "source": [
    "valid_data['Predicted_NS'] = predicted_labels"
   ]
  },
  {
   "cell_type": "code",
   "execution_count": 69,
   "id": "bebd4f57-5d18-498d-9264-8953f9d61f8d",
   "metadata": {},
   "outputs": [],
   "source": [
    "valid_data = valid_data.drop(columns=['EW_encoded'])"
   ]
  },
  {
   "cell_type": "code",
   "execution_count": 51,
   "id": "fa589a34-e6d1-41da-b5b9-65b70f44cebc",
   "metadata": {},
   "outputs": [
    {
     "data": {
      "text/html": [
       "<div>\n",
       "<style scoped>\n",
       "    .dataframe tbody tr th:only-of-type {\n",
       "        vertical-align: middle;\n",
       "    }\n",
       "\n",
       "    .dataframe tbody tr th {\n",
       "        vertical-align: top;\n",
       "    }\n",
       "\n",
       "    .dataframe thead th {\n",
       "        text-align: right;\n",
       "    }\n",
       "</style>\n",
       "<table border=\"1\" class=\"dataframe\">\n",
       "  <thead>\n",
       "    <tr style=\"text-align: right;\">\n",
       "      <th></th>\n",
       "      <th>Eccentricity</th>\n",
       "      <th>Semimajor Axis (m)</th>\n",
       "      <th>Inclination (deg)</th>\n",
       "      <th>RAAN (deg)</th>\n",
       "      <th>Argument of Periapsis (deg)</th>\n",
       "      <th>True Anomaly (deg)</th>\n",
       "      <th>Latitude (deg)</th>\n",
       "      <th>Longitude (deg)</th>\n",
       "      <th>Altitude (m)</th>\n",
       "      <th>X (m)</th>\n",
       "      <th>...</th>\n",
       "      <th>Vy (m/s)_lag_5</th>\n",
       "      <th>Vz (m/s)_lag_1</th>\n",
       "      <th>Vz (m/s)_lag_2</th>\n",
       "      <th>Vz (m/s)_lag_3</th>\n",
       "      <th>Vz (m/s)_lag_4</th>\n",
       "      <th>Vz (m/s)_lag_5</th>\n",
       "      <th>EW</th>\n",
       "      <th>NS</th>\n",
       "      <th>Predicted_EW</th>\n",
       "      <th>Predicted_NS</th>\n",
       "    </tr>\n",
       "  </thead>\n",
       "  <tbody>\n",
       "    <tr>\n",
       "      <th>0</th>\n",
       "      <td>0.000141</td>\n",
       "      <td>4.224428e+07</td>\n",
       "      <td>0.150051</td>\n",
       "      <td>104.366296</td>\n",
       "      <td>48.629370</td>\n",
       "      <td>139.374252</td>\n",
       "      <td>0.025175</td>\n",
       "      <td>-65.223070</td>\n",
       "      <td>3.587068e+07</td>\n",
       "      <td>1.607924e+07</td>\n",
       "      <td>...</td>\n",
       "      <td>1168.669376</td>\n",
       "      <td>-7.965409</td>\n",
       "      <td>-7.965409</td>\n",
       "      <td>-7.965409</td>\n",
       "      <td>-7.965409</td>\n",
       "      <td>-7.965409</td>\n",
       "      <td>SS-NK</td>\n",
       "      <td>SS-NK</td>\n",
       "      <td>SS-NK</td>\n",
       "      <td>SS-NK</td>\n",
       "    </tr>\n",
       "    <tr>\n",
       "      <th>1</th>\n",
       "      <td>0.000138</td>\n",
       "      <td>4.224424e+07</td>\n",
       "      <td>0.150422</td>\n",
       "      <td>104.424876</td>\n",
       "      <td>43.956562</td>\n",
       "      <td>173.977589</td>\n",
       "      <td>0.005561</td>\n",
       "      <td>-65.316101</td>\n",
       "      <td>3.587189e+07</td>\n",
       "      <td>3.345573e+07</td>\n",
       "      <td>...</td>\n",
       "      <td>1168.669376</td>\n",
       "      <td>-7.965409</td>\n",
       "      <td>-7.965409</td>\n",
       "      <td>-7.965409</td>\n",
       "      <td>-7.965409</td>\n",
       "      <td>-7.965409</td>\n",
       "      <td>SS-NK</td>\n",
       "      <td>SS-NK</td>\n",
       "      <td>SS-NK</td>\n",
       "      <td>SS-NK</td>\n",
       "    </tr>\n",
       "    <tr>\n",
       "      <th>2</th>\n",
       "      <td>0.000148</td>\n",
       "      <td>4.224391e+07</td>\n",
       "      <td>0.150598</td>\n",
       "      <td>104.508808</td>\n",
       "      <td>39.059683</td>\n",
       "      <td>208.779144</td>\n",
       "      <td>-0.015721</td>\n",
       "      <td>-65.409636</td>\n",
       "      <td>3.587126e+07</td>\n",
       "      <td>4.187300e+07</td>\n",
       "      <td>...</td>\n",
       "      <td>1168.669376</td>\n",
       "      <td>-6.359744</td>\n",
       "      <td>-7.965409</td>\n",
       "      <td>-7.965409</td>\n",
       "      <td>-7.965409</td>\n",
       "      <td>-7.965409</td>\n",
       "      <td>SS-NK</td>\n",
       "      <td>SS-NK</td>\n",
       "      <td>SS-NK</td>\n",
       "      <td>SS-NK</td>\n",
       "    </tr>\n",
       "    <tr>\n",
       "      <th>3</th>\n",
       "      <td>0.000167</td>\n",
       "      <td>4.224357e+07</td>\n",
       "      <td>0.150618</td>\n",
       "      <td>104.537452</td>\n",
       "      <td>36.298070</td>\n",
       "      <td>241.502804</td>\n",
       "      <td>-0.032891</td>\n",
       "      <td>-65.501081</td>\n",
       "      <td>3.586880e+07</td>\n",
       "      <td>3.907641e+07</td>\n",
       "      <td>...</td>\n",
       "      <td>1168.669376</td>\n",
       "      <td>-3.044640</td>\n",
       "      <td>-6.359744</td>\n",
       "      <td>-7.965409</td>\n",
       "      <td>-7.965409</td>\n",
       "      <td>-7.965409</td>\n",
       "      <td>SS-NK</td>\n",
       "      <td>SS-NK</td>\n",
       "      <td>SS-NK</td>\n",
       "      <td>SS-NK</td>\n",
       "    </tr>\n",
       "    <tr>\n",
       "      <th>4</th>\n",
       "      <td>0.000188</td>\n",
       "      <td>4.224362e+07</td>\n",
       "      <td>0.150702</td>\n",
       "      <td>104.473202</td>\n",
       "      <td>34.455987</td>\n",
       "      <td>273.404296</td>\n",
       "      <td>-0.041227</td>\n",
       "      <td>-65.588052</td>\n",
       "      <td>3.586501e+07</td>\n",
       "      <td>2.581318e+07</td>\n",
       "      <td>...</td>\n",
       "      <td>1168.669376</td>\n",
       "      <td>1.097112</td>\n",
       "      <td>-3.044640</td>\n",
       "      <td>-6.359744</td>\n",
       "      <td>-7.965409</td>\n",
       "      <td>-7.965409</td>\n",
       "      <td>SS-NK</td>\n",
       "      <td>SS-NK</td>\n",
       "      <td>SS-NK</td>\n",
       "      <td>SS-NK</td>\n",
       "    </tr>\n",
       "  </tbody>\n",
       "</table>\n",
       "<p>5 rows × 96 columns</p>\n",
       "</div>"
      ],
      "text/plain": [
       "   Eccentricity  Semimajor Axis (m)  Inclination (deg)  RAAN (deg)  \\\n",
       "0      0.000141        4.224428e+07           0.150051  104.366296   \n",
       "1      0.000138        4.224424e+07           0.150422  104.424876   \n",
       "2      0.000148        4.224391e+07           0.150598  104.508808   \n",
       "3      0.000167        4.224357e+07           0.150618  104.537452   \n",
       "4      0.000188        4.224362e+07           0.150702  104.473202   \n",
       "\n",
       "   Argument of Periapsis (deg)  True Anomaly (deg)  Latitude (deg)  \\\n",
       "0                    48.629370          139.374252        0.025175   \n",
       "1                    43.956562          173.977589        0.005561   \n",
       "2                    39.059683          208.779144       -0.015721   \n",
       "3                    36.298070          241.502804       -0.032891   \n",
       "4                    34.455987          273.404296       -0.041227   \n",
       "\n",
       "   Longitude (deg)  Altitude (m)         X (m)  ...  Vy (m/s)_lag_5  \\\n",
       "0       -65.223070  3.587068e+07  1.607924e+07  ...     1168.669376   \n",
       "1       -65.316101  3.587189e+07  3.345573e+07  ...     1168.669376   \n",
       "2       -65.409636  3.587126e+07  4.187300e+07  ...     1168.669376   \n",
       "3       -65.501081  3.586880e+07  3.907641e+07  ...     1168.669376   \n",
       "4       -65.588052  3.586501e+07  2.581318e+07  ...     1168.669376   \n",
       "\n",
       "   Vz (m/s)_lag_1  Vz (m/s)_lag_2  Vz (m/s)_lag_3  Vz (m/s)_lag_4  \\\n",
       "0       -7.965409       -7.965409       -7.965409       -7.965409   \n",
       "1       -7.965409       -7.965409       -7.965409       -7.965409   \n",
       "2       -6.359744       -7.965409       -7.965409       -7.965409   \n",
       "3       -3.044640       -6.359744       -7.965409       -7.965409   \n",
       "4        1.097112       -3.044640       -6.359744       -7.965409   \n",
       "\n",
       "   Vz (m/s)_lag_5     EW     NS  Predicted_EW  Predicted_NS  \n",
       "0       -7.965409  SS-NK  SS-NK         SS-NK         SS-NK  \n",
       "1       -7.965409  SS-NK  SS-NK         SS-NK         SS-NK  \n",
       "2       -7.965409  SS-NK  SS-NK         SS-NK         SS-NK  \n",
       "3       -7.965409  SS-NK  SS-NK         SS-NK         SS-NK  \n",
       "4       -7.965409  SS-NK  SS-NK         SS-NK         SS-NK  \n",
       "\n",
       "[5 rows x 96 columns]"
      ]
     },
     "execution_count": 51,
     "metadata": {},
     "output_type": "execute_result"
    }
   ],
   "source": [
    "valid_data.head()"
   ]
  },
  {
   "cell_type": "code",
   "execution_count": 52,
   "id": "2e2d4f6f-1721-4340-a872-adc4e62725dd",
   "metadata": {},
   "outputs": [
    {
     "name": "stdout",
     "output_type": "stream",
     "text": [
      "Precision for the valid set: 0.00\n",
      "Recall for the valid set: 0.74\n",
      "F2 for the valid set: 0.01\n",
      "RMSE for the valid set: 1.54\n"
     ]
    }
   ],
   "source": [
    "valid_results = utils.convert_classifier_output(valid_data)\n",
    "evaluator = evaluation.NodeDetectionEvaluator(ground_truth_valid, valid_results,tolerance=6)\n",
    "precision, recall, f2, rmse = evaluator.score()\n",
    "print(f'Precision for the valid set: {precision:.2f}')\n",
    "print(f'Recall for the valid set: {recall:.2f}')\n",
    "print(f'F2 for the valid set: {f2:.2f}')\n",
    "print(f'RMSE for the valid set: {rmse:.2f}')"
   ]
  },
  {
   "cell_type": "code",
   "execution_count": 56,
   "id": "bf528d4a-a017-4264-bc83-2cb67efaf9c3",
   "metadata": {},
   "outputs": [
    {
     "data": {
      "image/png": "[encoded data removed]",
      "text/plain": [
       "<Figure size 1000x600 with 2 Axes>"
      ]
     },
     "metadata": {},
     "output_type": "display_data"
    }
   ],
   "source": [
    "# Plot the evaluation timeline for a random ObjectID from the validation set\n",
    "evaluator.plot(np.random.choice(valid_data['ObjectID'].unique()))"
   ]
  },
  {
   "cell_type": "code",
   "execution_count": 57,
   "id": "27ad798a-bdcc-40e4-afe8-6155ffc5e24b",
   "metadata": {},
   "outputs": [
    {
     "name": "stdout",
     "output_type": "stream",
     "text": [
      "Total true positives: 29\n",
      "Total false positives: 15439\n",
      "Total false negatives: 10\n"
     ]
    }
   ],
   "source": [
    "# Loop over the Object IDs in the training set and call the evaluation\n",
    "# function for each object and aggregate the results\n",
    "total_tp = 0\n",
    "total_fp = 0\n",
    "total_fn = 0\n",
    "for oid in valid_data['ObjectID'].unique():\n",
    "    tp, fp, fn, gt_object, p_object = evaluator.evaluate(oid)\n",
    "    total_tp += tp\n",
    "    total_fp += fp\n",
    "    total_fn += fn\n",
    "\n",
    "print(f'Total true positives: {total_tp}')\n",
    "print(f'Total false positives: {total_fp}')\n",
    "print(f'Total false negatives: {total_fn}')"
   ]
  },
  {
   "cell_type": "code",
   "execution_count": 59,
   "id": "b1835b56-888a-4b83-b934-6614a276069e",
   "metadata": {},
   "outputs": [],
   "source": [
    "# Save the trained random forest models (and label encoders) to disk\n",
    "# Create the folder trained_model if it doesn't exist\n",
    "Path('trained_model').mkdir(exist_ok=True)\n",
    "pickle.dump(EW_model, open('trained_model/model_EW_LSTM_smote.pkl', 'wb'))\n",
    "pickle.dump(NS_model, open('trained_model/model_NS_LSTM_smote.pkl', 'wb'))\n",
    "pickle.dump(le_EW, open('trained_model/le_EW.pkl', 'wb'))\n",
    "pickle.dump(le_NS, open('trained_model/le_NS.pkl', 'wb'))"
   ]
  },
  {
   "cell_type": "markdown",
   "id": "2f9a2c60-248b-4a95-b966-db544d162dbb",
   "metadata": {},
   "source": [
    "# Saved Model Inference section"
   ]
  },
  {
   "cell_type": "code",
   "execution_count": 15,
   "id": "0ddc9be0-666b-47ac-953e-08cdd5783f09",
   "metadata": {},
   "outputs": [],
   "source": [
    "import pickle"
   ]
  },
  {
   "cell_type": "code",
   "execution_count": 16,
   "id": "27d98a8f-b905-4352-b50f-d9c8f3a42705",
   "metadata": {},
   "outputs": [
    {
     "data": {
      "text/plain": [
       "Path('D:/SPLID/splid-devkit/data')"
      ]
     },
     "execution_count": 16,
     "metadata": {},
     "output_type": "execute_result"
    }
   ],
   "source": [
    "config.challenge_data_dir"
   ]
  },
  {
   "cell_type": "code",
   "execution_count": 25,
   "id": "c16e8bc6-0d49-4d64-bfb4-a5253da9b670",
   "metadata": {},
   "outputs": [],
   "source": [
    "EW_model_file_path = Path('D:/SPLID/splid-devkit/baseline_submissions/ml_python/ML_solutions/trained_model/LSTM_model_EW.pkl')"
   ]
  },
  {
   "cell_type": "code",
   "execution_count": 26,
   "id": "181a9762-5c7f-4128-8341-cb65bef0dd1a",
   "metadata": {},
   "outputs": [
    {
     "ename": "PermissionError",
     "evalue": "[Errno 13] Permission denied: 'D:\\\\SPLID\\\\splid-devkit\\\\baseline_submissions\\\\ml_python\\\\ML_solutions\\\\trained_model'",
     "output_type": "error",
     "traceback": [
      "\u001b[1;31m---------------------------------------------------------------------------\u001b[0m",
      "\u001b[1;31mPermissionError\u001b[0m                           Traceback (most recent call last)",
      "Cell \u001b[1;32mIn[26], line 1\u001b[0m\n\u001b[1;32m----> 1\u001b[0m \u001b[38;5;28;01mwith\u001b[39;00m \u001b[43mmodel_file_path\u001b[49m\u001b[38;5;241;43m.\u001b[39;49m\u001b[43mopen\u001b[49m\u001b[43m(\u001b[49m\u001b[38;5;124;43m\"\u001b[39;49m\u001b[38;5;124;43mrb\u001b[39;49m\u001b[38;5;124;43m\"\u001b[39;49m\u001b[43m)\u001b[49m \u001b[38;5;28;01mas\u001b[39;00m f:\n\u001b[0;32m      2\u001b[0m     EW_model \u001b[38;5;241m=\u001b[39m pickle\u001b[38;5;241m.\u001b[39mload(f)\n\u001b[0;32m      4\u001b[0m f\u001b[38;5;241m.\u001b[39mclose()\n",
      "File \u001b[1;32mD:\\Miniconda\\envs\\SPLID\\lib\\pathlib.py:1119\u001b[0m, in \u001b[0;36mPath.open\u001b[1;34m(self, mode, buffering, encoding, errors, newline)\u001b[0m\n\u001b[0;32m   1117\u001b[0m \u001b[38;5;28;01mif\u001b[39;00m \u001b[38;5;124m\"\u001b[39m\u001b[38;5;124mb\u001b[39m\u001b[38;5;124m\"\u001b[39m \u001b[38;5;129;01mnot\u001b[39;00m \u001b[38;5;129;01min\u001b[39;00m mode:\n\u001b[0;32m   1118\u001b[0m     encoding \u001b[38;5;241m=\u001b[39m io\u001b[38;5;241m.\u001b[39mtext_encoding(encoding)\n\u001b[1;32m-> 1119\u001b[0m \u001b[38;5;28;01mreturn\u001b[39;00m \u001b[38;5;28;43mself\u001b[39;49m\u001b[38;5;241;43m.\u001b[39;49m\u001b[43m_accessor\u001b[49m\u001b[38;5;241;43m.\u001b[39;49m\u001b[43mopen\u001b[49m\u001b[43m(\u001b[49m\u001b[38;5;28;43mself\u001b[39;49m\u001b[43m,\u001b[49m\u001b[43m \u001b[49m\u001b[43mmode\u001b[49m\u001b[43m,\u001b[49m\u001b[43m \u001b[49m\u001b[43mbuffering\u001b[49m\u001b[43m,\u001b[49m\u001b[43m \u001b[49m\u001b[43mencoding\u001b[49m\u001b[43m,\u001b[49m\u001b[43m \u001b[49m\u001b[43merrors\u001b[49m\u001b[43m,\u001b[49m\n\u001b[0;32m   1120\u001b[0m \u001b[43m                           \u001b[49m\u001b[43mnewline\u001b[49m\u001b[43m)\u001b[49m\n",
      "\u001b[1;31mPermissionError\u001b[0m: [Errno 13] Permission denied: 'D:\\\\SPLID\\\\splid-devkit\\\\baseline_submissions\\\\ml_python\\\\ML_solutions\\\\trained_model'"
     ]
    }
   ],
   "source": [
    "with model_file_path.open(\"rb\") as f:\n",
    "    EW_model = pickle.load(f)\n",
    "\n",
    "f.close()"
   ]
  },
  {
   "cell_type": "code",
   "execution_count": null,
   "id": "ed0ca5bf-5b56-4146-9b5c-301d0efab21a",
   "metadata": {},
   "outputs": [],
   "source": []
  }
 ],
 "metadata": {
  "kernelspec": {
   "display_name": "Python 3 (ipykernel)",
   "language": "python",
   "name": "python3"
  },
  "language_info": {
   "codemirror_mode": {
    "name": "ipython",
    "version": 3
   },
   "file_extension": ".py",
   "mimetype": "text/x-python",
   "name": "python",
   "nbconvert_exporter": "python",
   "pygments_lexer": "ipython3",
   "version": "3.10.13"
  }
 },
 "nbformat": 4,
 "nbformat_minor": 5
}
