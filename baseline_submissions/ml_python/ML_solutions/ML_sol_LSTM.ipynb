{
 "cells": [
  {
   "cell_type": "code",
   "execution_count": 1,
   "id": "89e8e946-b917-4ad0-9360-138bba78d7f4",
   "metadata": {},
   "outputs": [],
   "source": [
    "import numpy as np\n",
    "import pandas as pd\n",
    "from pathlib import Path\n",
    "import pickle\n",
    "from sklearn.model_selection import train_test_split\n",
    "from sklearn.preprocessing import StandardScaler, LabelEncoder\n",
    "from sklearn.metrics import accuracy_score\n",
    "import sys\n",
    "sys.path.append('../..') \n",
    "import evaluation\n",
    "sys.path.append('../') \n",
    "import utils"
   ]
  },
  {
   "cell_type": "code",
   "execution_count": 26,
   "id": "977b46f6-e4fd-4462-845b-b307dd2a079d",
   "metadata": {},
   "outputs": [],
   "source": [
    "from tensorflow.keras.models import Sequential\n",
    "from tensorflow.keras.layers import LSTM, Dense, Dropout\n",
    "from tensorflow.keras.utils import to_categorical"
   ]
  },
  {
   "cell_type": "code",
   "execution_count": 3,
   "id": "971d8499-7a11-4f19-b4a9-a18d7755efe9",
   "metadata": {},
   "outputs": [],
   "source": [
    "from fastcore.basics import Path, AttrDict"
   ]
  },
  {
   "cell_type": "code",
   "execution_count": 4,
   "id": "4f3272e9-6f37-46b9-9be6-6e6008af318b",
   "metadata": {},
   "outputs": [],
   "source": [
    "import matplotlib.pyplot as plt"
   ]
  },
  {
   "cell_type": "code",
   "execution_count": 5,
   "id": "4ebe791f-759e-4c0b-b755-6e06ae018fff",
   "metadata": {},
   "outputs": [],
   "source": [
    "config = AttrDict(\n",
    "    challenge_data_dir = Path('D:/SPLID/splid-devkit/data').expanduser(),\n",
    "    valid_ratio = 0.1,\n",
    "    lag_steps = 5\n",
    ")"
   ]
  },
  {
   "cell_type": "code",
   "execution_count": 6,
   "id": "4605671f-0c4b-4c62-9a38-f21b26836b18",
   "metadata": {},
   "outputs": [],
   "source": [
    "# Define the list of feature columns\n",
    "feature_cols = [\n",
    "    \"Eccentricity\",\n",
    "    \"Semimajor Axis (m)\",\n",
    "    \"Inclination (deg)\",\n",
    "    \"RAAN (deg)\",\n",
    "    \"Argument of Periapsis (deg)\",\n",
    "    \"True Anomaly (deg)\",\n",
    "    \"Latitude (deg)\",\n",
    "    \"Longitude (deg)\",\n",
    "    \"Altitude (m)\",\n",
    "    \"X (m)\",\n",
    "    \"Y (m)\",\n",
    "    \"Z (m)\",\n",
    "    \"Vx (m/s)\",\n",
    "    \"Vy (m/s)\",\n",
    "    \"Vz (m/s)\"\n",
    "]"
   ]
  },
  {
   "cell_type": "code",
   "execution_count": 7,
   "id": "9b4f5b80-3261-45dd-a77b-6aabd757b858",
   "metadata": {},
   "outputs": [
    {
     "data": {
      "text/html": [
       "<div>\n",
       "<style scoped>\n",
       "    .dataframe tbody tr th:only-of-type {\n",
       "        vertical-align: middle;\n",
       "    }\n",
       "\n",
       "    .dataframe tbody tr th {\n",
       "        vertical-align: top;\n",
       "    }\n",
       "\n",
       "    .dataframe thead th {\n",
       "        text-align: right;\n",
       "    }\n",
       "</style>\n",
       "<table border=\"1\" class=\"dataframe\">\n",
       "  <thead>\n",
       "    <tr style=\"text-align: right;\">\n",
       "      <th></th>\n",
       "      <th>ObjectID</th>\n",
       "      <th>TimeIndex</th>\n",
       "      <th>EW</th>\n",
       "      <th>NS</th>\n",
       "    </tr>\n",
       "  </thead>\n",
       "  <tbody>\n",
       "    <tr>\n",
       "      <th>0</th>\n",
       "      <td>1</td>\n",
       "      <td>0</td>\n",
       "      <td>SS-HK</td>\n",
       "      <td>SS-HK</td>\n",
       "    </tr>\n",
       "    <tr>\n",
       "      <th>1</th>\n",
       "      <td>1</td>\n",
       "      <td>1</td>\n",
       "      <td>SS-HK</td>\n",
       "      <td>SS-HK</td>\n",
       "    </tr>\n",
       "    <tr>\n",
       "      <th>0</th>\n",
       "      <td>10</td>\n",
       "      <td>0</td>\n",
       "      <td>SS-CK</td>\n",
       "      <td>SS-NK</td>\n",
       "    </tr>\n",
       "    <tr>\n",
       "      <th>1</th>\n",
       "      <td>10</td>\n",
       "      <td>1</td>\n",
       "      <td>SS-CK</td>\n",
       "      <td>SS-NK</td>\n",
       "    </tr>\n",
       "    <tr>\n",
       "      <th>0</th>\n",
       "      <td>100</td>\n",
       "      <td>0</td>\n",
       "      <td>SS-CK</td>\n",
       "      <td>SS-CK</td>\n",
       "    </tr>\n",
       "    <tr>\n",
       "      <th>1</th>\n",
       "      <td>100</td>\n",
       "      <td>1</td>\n",
       "      <td>SS-CK</td>\n",
       "      <td>SS-CK</td>\n",
       "    </tr>\n",
       "    <tr>\n",
       "      <th>0</th>\n",
       "      <td>101</td>\n",
       "      <td>0</td>\n",
       "      <td>SS-CK</td>\n",
       "      <td>SS-NK</td>\n",
       "    </tr>\n",
       "    <tr>\n",
       "      <th>1</th>\n",
       "      <td>101</td>\n",
       "      <td>1</td>\n",
       "      <td>SS-CK</td>\n",
       "      <td>SS-NK</td>\n",
       "    </tr>\n",
       "    <tr>\n",
       "      <th>0</th>\n",
       "      <td>102</td>\n",
       "      <td>0</td>\n",
       "      <td>SS-CK</td>\n",
       "      <td>SS-NK</td>\n",
       "    </tr>\n",
       "    <tr>\n",
       "      <th>1</th>\n",
       "      <td>102</td>\n",
       "      <td>1</td>\n",
       "      <td>SS-CK</td>\n",
       "      <td>SS-NK</td>\n",
       "    </tr>\n",
       "  </tbody>\n",
       "</table>\n",
       "</div>"
      ],
      "text/plain": [
       "   ObjectID  TimeIndex     EW     NS\n",
       "0         1          0  SS-HK  SS-HK\n",
       "1         1          1  SS-HK  SS-HK\n",
       "0        10          0  SS-CK  SS-NK\n",
       "1        10          1  SS-CK  SS-NK\n",
       "0       100          0  SS-CK  SS-CK\n",
       "1       100          1  SS-CK  SS-CK\n",
       "0       101          0  SS-CK  SS-NK\n",
       "1       101          1  SS-CK  SS-NK\n",
       "0       102          0  SS-CK  SS-NK\n",
       "1       102          1  SS-CK  SS-NK"
      ]
     },
     "execution_count": 7,
     "metadata": {},
     "output_type": "execute_result"
    }
   ],
   "source": [
    "# Define the directory paths\n",
    "train_data_dir = config.challenge_data_dir / \"train\"\n",
    "\n",
    "# Load the ground truth data\n",
    "ground_truth = pd.read_csv(config.challenge_data_dir / 'train_labels.csv')\n",
    "\n",
    "# Apply the function to the ground truth data\n",
    "data, updated_feature_cols = utils.tabularize_data(train_data_dir, feature_cols, \n",
    "                                          ground_truth, lag_steps=config.lag_steps)\n",
    "\n",
    "# For each ObjectID, show the first rows of the columns TimeIndex, ObjectID, EW, and NS\n",
    "data[['ObjectID', 'TimeIndex' , 'EW', 'NS']].groupby('ObjectID').head(2).head(10)"
   ]
  },
  {
   "cell_type": "code",
   "execution_count": 8,
   "id": "ce04f90c-7b8f-4a58-8b08-88a77dd4c51a",
   "metadata": {},
   "outputs": [
    {
     "name": "stdout",
     "output_type": "stream",
     "text": [
      "Number of objects in the training set: 225\n",
      "Number of objects in the validation set: 25\n"
     ]
    }
   ],
   "source": [
    "# Create a validation set without mixing the ObjectIDs\n",
    "object_ids = data['ObjectID'].unique()\n",
    "train_ids, valid_ids = train_test_split(object_ids, \n",
    "                                        test_size=config.valid_ratio, \n",
    "                                        random_state=42)\n",
    "\n",
    "train_data = data[data['ObjectID'].isin(train_ids)].copy()\n",
    "valid_data = data[data['ObjectID'].isin(valid_ids)].copy()\n",
    "\n",
    "ground_truth_train = ground_truth[ground_truth['ObjectID'].isin(train_ids)].copy()\n",
    "ground_truth_valid = ground_truth[ground_truth['ObjectID'].isin(valid_ids)].copy()\n",
    "\n",
    "# Count the number of objects in the training and validation sets\n",
    "print('Number of objects in the training set:', len(train_data['ObjectID'].unique()))\n",
    "print('Number of objects in the validation set:', len(valid_data['ObjectID'].unique()))"
   ]
  },
  {
   "cell_type": "code",
   "execution_count": 9,
   "id": "bc0629f3-0649-4752-9570-56d983d4d721",
   "metadata": {},
   "outputs": [
    {
     "data": {
      "text/plain": [
       "490416"
      ]
     },
     "execution_count": 9,
     "metadata": {},
     "output_type": "execute_result"
    }
   ],
   "source": [
    "len(train_data)"
   ]
  },
  {
   "cell_type": "code",
   "execution_count": 10,
   "id": "cf263d0d-97ff-425b-88f9-7d2f35a4f690",
   "metadata": {},
   "outputs": [
    {
     "data": {
      "text/plain": [
       "54444"
      ]
     },
     "execution_count": 10,
     "metadata": {},
     "output_type": "execute_result"
    }
   ],
   "source": [
    "len(valid_data)"
   ]
  },
  {
   "cell_type": "code",
   "execution_count": 22,
   "id": "f1574395-0afe-4442-9a43-fb6ebf67b34e",
   "metadata": {},
   "outputs": [
    {
     "data": {
      "text/plain": [
       "544860"
      ]
     },
     "execution_count": 22,
     "metadata": {},
     "output_type": "execute_result"
    }
   ],
   "source": [
    "len(data)"
   ]
  },
  {
   "cell_type": "code",
   "execution_count": 15,
   "id": "b63f8e0a-f0ac-480d-9b99-0aafa9f697ae",
   "metadata": {},
   "outputs": [
    {
     "data": {
      "text/html": [
       "<div>\n",
       "<style scoped>\n",
       "    .dataframe tbody tr th:only-of-type {\n",
       "        vertical-align: middle;\n",
       "    }\n",
       "\n",
       "    .dataframe tbody tr th {\n",
       "        vertical-align: top;\n",
       "    }\n",
       "\n",
       "    .dataframe thead th {\n",
       "        text-align: right;\n",
       "    }\n",
       "</style>\n",
       "<table border=\"1\" class=\"dataframe\">\n",
       "  <thead>\n",
       "    <tr style=\"text-align: right;\">\n",
       "      <th></th>\n",
       "      <th>Eccentricity</th>\n",
       "      <th>Semimajor Axis (m)</th>\n",
       "      <th>Inclination (deg)</th>\n",
       "      <th>RAAN (deg)</th>\n",
       "      <th>Argument of Periapsis (deg)</th>\n",
       "      <th>True Anomaly (deg)</th>\n",
       "      <th>Latitude (deg)</th>\n",
       "      <th>Longitude (deg)</th>\n",
       "      <th>Altitude (m)</th>\n",
       "      <th>X (m)</th>\n",
       "      <th>...</th>\n",
       "      <th>Vy (m/s)_lag_1</th>\n",
       "      <th>Vy (m/s)_lag_2</th>\n",
       "      <th>Vy (m/s)_lag_3</th>\n",
       "      <th>Vy (m/s)_lag_4</th>\n",
       "      <th>Vy (m/s)_lag_5</th>\n",
       "      <th>Vz (m/s)_lag_1</th>\n",
       "      <th>Vz (m/s)_lag_2</th>\n",
       "      <th>Vz (m/s)_lag_3</th>\n",
       "      <th>Vz (m/s)_lag_4</th>\n",
       "      <th>Vz (m/s)_lag_5</th>\n",
       "    </tr>\n",
       "  </thead>\n",
       "  <tbody>\n",
       "    <tr>\n",
       "      <th>count</th>\n",
       "      <td>544860.000000</td>\n",
       "      <td>5.448600e+05</td>\n",
       "      <td>544860.000000</td>\n",
       "      <td>544860.000000</td>\n",
       "      <td>544860.000000</td>\n",
       "      <td>544860.000000</td>\n",
       "      <td>544860.000000</td>\n",
       "      <td>544860.000000</td>\n",
       "      <td>5.448600e+05</td>\n",
       "      <td>5.448600e+05</td>\n",
       "      <td>...</td>\n",
       "      <td>544860.000000</td>\n",
       "      <td>544860.000000</td>\n",
       "      <td>544860.000000</td>\n",
       "      <td>544860.000000</td>\n",
       "      <td>544860.000000</td>\n",
       "      <td>544860.000000</td>\n",
       "      <td>544860.000000</td>\n",
       "      <td>544860.000000</td>\n",
       "      <td>544860.000000</td>\n",
       "      <td>544860.000000</td>\n",
       "    </tr>\n",
       "    <tr>\n",
       "      <th>mean</th>\n",
       "      <td>0.000777</td>\n",
       "      <td>4.217808e+07</td>\n",
       "      <td>0.308296</td>\n",
       "      <td>94.776187</td>\n",
       "      <td>154.400927</td>\n",
       "      <td>158.645411</td>\n",
       "      <td>0.000251</td>\n",
       "      <td>2.611029</td>\n",
       "      <td>3.579879e+07</td>\n",
       "      <td>3.507365e+04</td>\n",
       "      <td>...</td>\n",
       "      <td>2.114910</td>\n",
       "      <td>2.456722</td>\n",
       "      <td>2.673163</td>\n",
       "      <td>2.829026</td>\n",
       "      <td>3.005567</td>\n",
       "      <td>0.003046</td>\n",
       "      <td>0.002366</td>\n",
       "      <td>0.001121</td>\n",
       "      <td>-0.000412</td>\n",
       "      <td>-0.001879</td>\n",
       "    </tr>\n",
       "    <tr>\n",
       "      <th>std</th>\n",
       "      <td>0.001397</td>\n",
       "      <td>7.802169e+04</td>\n",
       "      <td>0.900648</td>\n",
       "      <td>19.557625</td>\n",
       "      <td>87.071663</td>\n",
       "      <td>120.645831</td>\n",
       "      <td>0.652997</td>\n",
       "      <td>90.190872</td>\n",
       "      <td>9.146158e+04</td>\n",
       "      <td>2.982243e+07</td>\n",
       "      <td>...</td>\n",
       "      <td>2173.863564</td>\n",
       "      <td>2173.979412</td>\n",
       "      <td>2174.084867</td>\n",
       "      <td>2174.135953</td>\n",
       "      <td>2174.142868</td>\n",
       "      <td>35.934310</td>\n",
       "      <td>35.931927</td>\n",
       "      <td>35.935565</td>\n",
       "      <td>35.940457</td>\n",
       "      <td>35.940614</td>\n",
       "    </tr>\n",
       "    <tr>\n",
       "      <th>min</th>\n",
       "      <td>0.000001</td>\n",
       "      <td>4.171377e+07</td>\n",
       "      <td>0.042754</td>\n",
       "      <td>41.693890</td>\n",
       "      <td>0.000645</td>\n",
       "      <td>-179.994062</td>\n",
       "      <td>-9.873823</td>\n",
       "      <td>-179.999986</td>\n",
       "      <td>3.515185e+07</td>\n",
       "      <td>-4.254933e+07</td>\n",
       "      <td>...</td>\n",
       "      <td>-3107.831169</td>\n",
       "      <td>-3107.831169</td>\n",
       "      <td>-3107.831169</td>\n",
       "      <td>-3107.831169</td>\n",
       "      <td>-3107.831169</td>\n",
       "      <td>-531.699273</td>\n",
       "      <td>-531.699273</td>\n",
       "      <td>-531.699273</td>\n",
       "      <td>-531.699273</td>\n",
       "      <td>-531.699273</td>\n",
       "    </tr>\n",
       "    <tr>\n",
       "      <th>25%</th>\n",
       "      <td>0.000238</td>\n",
       "      <td>4.216510e+07</td>\n",
       "      <td>0.132406</td>\n",
       "      <td>87.824396</td>\n",
       "      <td>85.238376</td>\n",
       "      <td>63.964989</td>\n",
       "      <td>-0.025258</td>\n",
       "      <td>-73.750163</td>\n",
       "      <td>3.577838e+07</td>\n",
       "      <td>-2.978574e+07</td>\n",
       "      <td>...</td>\n",
       "      <td>-2172.758695</td>\n",
       "      <td>-2172.597138</td>\n",
       "      <td>-2172.758695</td>\n",
       "      <td>-2173.021239</td>\n",
       "      <td>-2173.021239</td>\n",
       "      <td>-5.744057</td>\n",
       "      <td>-5.745389</td>\n",
       "      <td>-5.746372</td>\n",
       "      <td>-5.746939</td>\n",
       "      <td>-5.748209</td>\n",
       "    </tr>\n",
       "    <tr>\n",
       "      <th>50%</th>\n",
       "      <td>0.000335</td>\n",
       "      <td>4.216592e+07</td>\n",
       "      <td>0.152710</td>\n",
       "      <td>94.497250</td>\n",
       "      <td>141.833084</td>\n",
       "      <td>156.741005</td>\n",
       "      <td>0.000309</td>\n",
       "      <td>-7.015789</td>\n",
       "      <td>3.578782e+07</td>\n",
       "      <td>8.836196e+04</td>\n",
       "      <td>...</td>\n",
       "      <td>6.628235</td>\n",
       "      <td>7.171746</td>\n",
       "      <td>7.952763</td>\n",
       "      <td>8.331679</td>\n",
       "      <td>8.372964</td>\n",
       "      <td>0.003102</td>\n",
       "      <td>-0.002169</td>\n",
       "      <td>-0.003558</td>\n",
       "      <td>-0.004599</td>\n",
       "      <td>-0.006147</td>\n",
       "    </tr>\n",
       "    <tr>\n",
       "      <th>75%</th>\n",
       "      <td>0.000524</td>\n",
       "      <td>4.216674e+07</td>\n",
       "      <td>0.186747</td>\n",
       "      <td>99.905521</td>\n",
       "      <td>207.623242</td>\n",
       "      <td>262.511639</td>\n",
       "      <td>0.025819</td>\n",
       "      <td>42.017629</td>\n",
       "      <td>3.579692e+07</td>\n",
       "      <td>2.985488e+07</td>\n",
       "      <td>...</td>\n",
       "      <td>2176.062969</td>\n",
       "      <td>2176.062969</td>\n",
       "      <td>2176.062969</td>\n",
       "      <td>2176.062969</td>\n",
       "      <td>2176.062969</td>\n",
       "      <td>5.747088</td>\n",
       "      <td>5.743210</td>\n",
       "      <td>5.740246</td>\n",
       "      <td>5.738686</td>\n",
       "      <td>5.736524</td>\n",
       "    </tr>\n",
       "    <tr>\n",
       "      <th>max</th>\n",
       "      <td>0.007778</td>\n",
       "      <td>4.260272e+07</td>\n",
       "      <td>9.970447</td>\n",
       "      <td>354.167229</td>\n",
       "      <td>359.998736</td>\n",
       "      <td>359.999155</td>\n",
       "      <td>9.874416</td>\n",
       "      <td>359.782205</td>\n",
       "      <td>3.633733e+07</td>\n",
       "      <td>4.258594e+07</td>\n",
       "      <td>...</td>\n",
       "      <td>3094.457324</td>\n",
       "      <td>3094.457324</td>\n",
       "      <td>3094.457324</td>\n",
       "      <td>3094.457324</td>\n",
       "      <td>3094.457324</td>\n",
       "      <td>532.071842</td>\n",
       "      <td>532.071842</td>\n",
       "      <td>532.071842</td>\n",
       "      <td>532.071842</td>\n",
       "      <td>532.071842</td>\n",
       "    </tr>\n",
       "  </tbody>\n",
       "</table>\n",
       "<p>8 rows × 92 columns</p>\n",
       "</div>"
      ],
      "text/plain": [
       "        Eccentricity  Semimajor Axis (m)  Inclination (deg)     RAAN (deg)  \\\n",
       "count  544860.000000        5.448600e+05      544860.000000  544860.000000   \n",
       "mean        0.000777        4.217808e+07           0.308296      94.776187   \n",
       "std         0.001397        7.802169e+04           0.900648      19.557625   \n",
       "min         0.000001        4.171377e+07           0.042754      41.693890   \n",
       "25%         0.000238        4.216510e+07           0.132406      87.824396   \n",
       "50%         0.000335        4.216592e+07           0.152710      94.497250   \n",
       "75%         0.000524        4.216674e+07           0.186747      99.905521   \n",
       "max         0.007778        4.260272e+07           9.970447     354.167229   \n",
       "\n",
       "       Argument of Periapsis (deg)  True Anomaly (deg)  Latitude (deg)  \\\n",
       "count                544860.000000       544860.000000   544860.000000   \n",
       "mean                    154.400927          158.645411        0.000251   \n",
       "std                      87.071663          120.645831        0.652997   \n",
       "min                       0.000645         -179.994062       -9.873823   \n",
       "25%                      85.238376           63.964989       -0.025258   \n",
       "50%                     141.833084          156.741005        0.000309   \n",
       "75%                     207.623242          262.511639        0.025819   \n",
       "max                     359.998736          359.999155        9.874416   \n",
       "\n",
       "       Longitude (deg)  Altitude (m)         X (m)  ...  Vy (m/s)_lag_1  \\\n",
       "count    544860.000000  5.448600e+05  5.448600e+05  ...   544860.000000   \n",
       "mean          2.611029  3.579879e+07  3.507365e+04  ...        2.114910   \n",
       "std          90.190872  9.146158e+04  2.982243e+07  ...     2173.863564   \n",
       "min        -179.999986  3.515185e+07 -4.254933e+07  ...    -3107.831169   \n",
       "25%         -73.750163  3.577838e+07 -2.978574e+07  ...    -2172.758695   \n",
       "50%          -7.015789  3.578782e+07  8.836196e+04  ...        6.628235   \n",
       "75%          42.017629  3.579692e+07  2.985488e+07  ...     2176.062969   \n",
       "max         359.782205  3.633733e+07  4.258594e+07  ...     3094.457324   \n",
       "\n",
       "       Vy (m/s)_lag_2  Vy (m/s)_lag_3  Vy (m/s)_lag_4  Vy (m/s)_lag_5  \\\n",
       "count   544860.000000   544860.000000   544860.000000   544860.000000   \n",
       "mean         2.456722        2.673163        2.829026        3.005567   \n",
       "std       2173.979412     2174.084867     2174.135953     2174.142868   \n",
       "min      -3107.831169    -3107.831169    -3107.831169    -3107.831169   \n",
       "25%      -2172.597138    -2172.758695    -2173.021239    -2173.021239   \n",
       "50%          7.171746        7.952763        8.331679        8.372964   \n",
       "75%       2176.062969     2176.062969     2176.062969     2176.062969   \n",
       "max       3094.457324     3094.457324     3094.457324     3094.457324   \n",
       "\n",
       "       Vz (m/s)_lag_1  Vz (m/s)_lag_2  Vz (m/s)_lag_3  Vz (m/s)_lag_4  \\\n",
       "count   544860.000000   544860.000000   544860.000000   544860.000000   \n",
       "mean         0.003046        0.002366        0.001121       -0.000412   \n",
       "std         35.934310       35.931927       35.935565       35.940457   \n",
       "min       -531.699273     -531.699273     -531.699273     -531.699273   \n",
       "25%         -5.744057       -5.745389       -5.746372       -5.746939   \n",
       "50%          0.003102       -0.002169       -0.003558       -0.004599   \n",
       "75%          5.747088        5.743210        5.740246        5.738686   \n",
       "max        532.071842      532.071842      532.071842      532.071842   \n",
       "\n",
       "       Vz (m/s)_lag_5  \n",
       "count   544860.000000  \n",
       "mean        -0.001879  \n",
       "std         35.940614  \n",
       "min       -531.699273  \n",
       "25%         -5.748209  \n",
       "50%         -0.006147  \n",
       "75%          5.736524  \n",
       "max        532.071842  \n",
       "\n",
       "[8 rows x 92 columns]"
      ]
     },
     "execution_count": 15,
     "metadata": {},
     "output_type": "execute_result"
    }
   ],
   "source": [
    "data.describe()"
   ]
  },
  {
   "cell_type": "code",
   "execution_count": 11,
   "id": "305b6007-cf4d-47b2-97ad-e484864e7579",
   "metadata": {},
   "outputs": [],
   "source": [
    "# Convert categorical data to numerical data\n",
    "le_EW = LabelEncoder()\n",
    "le_NS = LabelEncoder()\n",
    "\n",
    "# Encode the 'EW' and 'NS' columns\n",
    "train_data['EW_encoded'] = le_EW.fit_transform(train_data['EW'])\n",
    "train_data['NS_encoded'] = le_NS.fit_transform(train_data['NS'])"
   ]
  },
  {
   "cell_type": "code",
   "execution_count": 16,
   "id": "853bee2b-2e26-488f-b561-3e6403bde9a3",
   "metadata": {},
   "outputs": [],
   "source": [
    "train_data_X = train_data.iloc[:,:-5].values"
   ]
  },
  {
   "cell_type": "code",
   "execution_count": 13,
   "id": "0d175105-687e-4687-a6e7-cde8391512be",
   "metadata": {},
   "outputs": [],
   "source": [
    "train_data_Y_EW = train_data.iloc[:,-2].values\n",
    "train_data_Y_NS = train_data.iloc[:,-1].values"
   ]
  },
  {
   "cell_type": "code",
   "execution_count": 34,
   "id": "97723630-806c-4154-8f3c-8eb38d7c0c9f",
   "metadata": {},
   "outputs": [],
   "source": [
    "y_train = train_data['EW_encoded']"
   ]
  },
  {
   "cell_type": "code",
   "execution_count": 37,
   "id": "b74ad836-5aaf-40e3-9c1f-1cde6f7466ce",
   "metadata": {},
   "outputs": [
    {
     "ename": "IndexError",
     "evalue": "tuple index out of range",
     "output_type": "error",
     "traceback": [
      "\u001b[1;31m---------------------------------------------------------------------------\u001b[0m",
      "\u001b[1;31mIndexError\u001b[0m                                Traceback (most recent call last)",
      "Cell \u001b[1;32mIn[37], line 1\u001b[0m\n\u001b[1;32m----> 1\u001b[0m \u001b[43my_train\u001b[49m\u001b[38;5;241;43m.\u001b[39;49m\u001b[43mshape\u001b[49m\u001b[43m[\u001b[49m\u001b[38;5;241;43m1\u001b[39;49m\u001b[43m]\u001b[49m\n",
      "\u001b[1;31mIndexError\u001b[0m: tuple index out of range"
     ]
    }
   ],
   "source": [
    "y_train.shape[1]"
   ]
  },
  {
   "cell_type": "code",
   "execution_count": 55,
   "id": "f21bbfbd-853e-4cf1-b63d-5fd9ae18d3b5",
   "metadata": {},
   "outputs": [
    {
     "data": {
      "image/png": "[encoded data removed]",
      "text/plain": [
       "<Figure size 640x480 with 1 Axes>"
      ]
     },
     "metadata": {},
     "output_type": "display_data"
    }
   ],
   "source": [
    "train_data['EW'].value_counts().plot(kind=\"bar\")\n",
    "plt.xticks(rotation=45)\n",
    "plt.show()"
   ]
  },
  {
   "cell_type": "code",
   "execution_count": 56,
   "id": "1cd2accc-54de-4f6c-889d-ffd86a6100f2",
   "metadata": {},
   "outputs": [
    {
     "data": {
      "image/png": "[encoded data removed]",
      "text/plain": [
       "<Figure size 640x480 with 1 Axes>"
      ]
     },
     "metadata": {},
     "output_type": "display_data"
    }
   ],
   "source": [
    "train_data['NS'].value_counts().plot(kind=\"bar\")\n",
    "plt.xticks(rotation=45)\n",
    "plt.show()"
   ]
  },
  {
   "cell_type": "code",
   "execution_count": 21,
   "id": "05c96fed-92d2-4e9b-8c05-a359dd438763",
   "metadata": {},
   "outputs": [],
   "source": [
    "# Standardize the data\n",
    "scaler = StandardScaler()\n",
    "train_data_X = scaler.fit_transform(train_data_X)"
   ]
  },
  {
   "cell_type": "code",
   "execution_count": 22,
   "id": "4a548566-8f42-409e-bbcd-bccd6ac742ba",
   "metadata": {},
   "outputs": [],
   "source": [
    "# Reshape the data for LSTM input (samples, time steps, features)\n",
    "train_data_X = train_data_X.reshape((train_data_X.shape[0],1,train_data_X.shape[1]))"
   ]
  },
  {
   "cell_type": "code",
   "execution_count": 44,
   "id": "627863fb-b25c-4c30-b039-b29cec475972",
   "metadata": {},
   "outputs": [],
   "source": [
    "# Build the LSTM model for multi-class classification\n",
    "EW_model = Sequential()\n",
    "EW_model.add(LSTM(50, return_sequences=True,input_shape=(train_data_X.shape[1], train_data_X.shape[2])))\n",
    "EW_model.add(Dropout(0.2))\n",
    "EW_model.add(LSTM(50, return_sequences=False))\n",
    "EW_model.add(Dropout(0.2))\n",
    "EW_model.add(Dense(9, activation='softmax'))  # Output layer for multi-class classification"
   ]
  },
  {
   "cell_type": "code",
   "execution_count": 45,
   "id": "e86c093c-aa70-47f6-9b96-d75f53a9d766",
   "metadata": {},
   "outputs": [],
   "source": [
    "# Compile the model\n",
    "EW_model.compile(optimizer='adam', loss='sparse_categorical_crossentropy', metrics=['accuracy'])"
   ]
  },
  {
   "cell_type": "code",
   "execution_count": 46,
   "id": "0678fdf7-e6db-4679-8b0a-1b5be60884ef",
   "metadata": {},
   "outputs": [
    {
     "name": "stdout",
     "output_type": "stream",
     "text": [
      "Model: \"sequential_4\"\n",
      "_________________________________________________________________\n",
      " Layer (type)                Output Shape              Param #   \n",
      "=================================================================\n",
      " lstm_7 (LSTM)               (None, 1, 50)             28600     \n",
      "                                                                 \n",
      " dropout_6 (Dropout)         (None, 1, 50)             0         \n",
      "                                                                 \n",
      " lstm_8 (LSTM)               (None, 50)                20200     \n",
      "                                                                 \n",
      " dropout_7 (Dropout)         (None, 50)                0         \n",
      "                                                                 \n",
      " dense_3 (Dense)             (None, 9)                 459       \n",
      "                                                                 \n",
      "=================================================================\n",
      "Total params: 49259 (192.42 KB)\n",
      "Trainable params: 49259 (192.42 KB)\n",
      "Non-trainable params: 0 (0.00 Byte)\n",
      "_________________________________________________________________\n"
     ]
    }
   ],
   "source": [
    "EW_model.summary()"
   ]
  },
  {
   "cell_type": "code",
   "execution_count": 47,
   "id": "51351c88-6a71-47a1-afe3-b624dc42a7ae",
   "metadata": {},
   "outputs": [
    {
     "name": "stdout",
     "output_type": "stream",
     "text": [
      "Epoch 1/10\n",
      "12261/12261 [==============================] - 54s 4ms/step - loss: 0.3217 - accuracy: 0.8801 - val_loss: 0.7747 - val_accuracy: 0.8427\n",
      "Epoch 2/10\n",
      "12261/12261 [==============================] - 48s 4ms/step - loss: 0.1614 - accuracy: 0.9400 - val_loss: 0.4087 - val_accuracy: 0.8960\n",
      "Epoch 3/10\n",
      "12261/12261 [==============================] - 48s 4ms/step - loss: 0.1330 - accuracy: 0.9509 - val_loss: 0.1973 - val_accuracy: 0.9382\n",
      "Epoch 4/10\n",
      "12261/12261 [==============================] - 48s 4ms/step - loss: 0.1196 - accuracy: 0.9559 - val_loss: 0.2171 - val_accuracy: 0.9505\n",
      "Epoch 5/10\n",
      "12261/12261 [==============================] - 48s 4ms/step - loss: 0.1114 - accuracy: 0.9589 - val_loss: 0.1074 - val_accuracy: 0.9675\n",
      "Epoch 6/10\n",
      "12261/12261 [==============================] - 49s 4ms/step - loss: 0.1046 - accuracy: 0.9610 - val_loss: 0.0913 - val_accuracy: 0.9724\n",
      "Epoch 7/10\n",
      "12261/12261 [==============================] - 50s 4ms/step - loss: 0.1012 - accuracy: 0.9621 - val_loss: 0.1075 - val_accuracy: 0.9694\n",
      "Epoch 8/10\n",
      "12261/12261 [==============================] - 50s 4ms/step - loss: 0.0969 - accuracy: 0.9642 - val_loss: 0.0696 - val_accuracy: 0.9802\n",
      "Epoch 9/10\n",
      "12261/12261 [==============================] - 51s 4ms/step - loss: 0.0943 - accuracy: 0.9651 - val_loss: 0.1070 - val_accuracy: 0.9750\n",
      "Epoch 10/10\n",
      "12261/12261 [==============================] - 52s 4ms/step - loss: 0.0920 - accuracy: 0.9658 - val_loss: 0.0831 - val_accuracy: 0.9796\n"
     ]
    },
    {
     "data": {
      "text/plain": [
       "<keras.src.callbacks.History at 0x1bb943d9930>"
      ]
     },
     "execution_count": 47,
     "metadata": {},
     "output_type": "execute_result"
    }
   ],
   "source": [
    "#Train the model\n",
    "EW_model.fit(train_data_X, train_data_Y_EW, epochs=10, batch_size=32,validation_split=0.2)"
   ]
  },
  {
   "cell_type": "code",
   "execution_count": 48,
   "id": "0bb93149-6f89-4f13-9521-30aa9e304d43",
   "metadata": {},
   "outputs": [],
   "source": [
    "valid_data['EW_encoded'] = le_EW.fit_transform(valid_data['EW'])"
   ]
  },
  {
   "cell_type": "code",
   "execution_count": 61,
   "id": "4bdd858a-e8ce-4888-b7db-5123effea064",
   "metadata": {},
   "outputs": [],
   "source": [
    "valid_data_X = valid_data.iloc[:,:-4].values"
   ]
  },
  {
   "cell_type": "code",
   "execution_count": 66,
   "id": "19268734-dc6e-47a7-82be-64f33dbd4e34",
   "metadata": {},
   "outputs": [],
   "source": [
    "valid_data_Y_EW = valid_data.iloc[:,-1].values"
   ]
  },
  {
   "cell_type": "code",
   "execution_count": 62,
   "id": "1502d6a0-7f55-438f-b930-97b75bfcbaf3",
   "metadata": {},
   "outputs": [],
   "source": [
    "valid_data_X = scaler.fit_transform(valid_data_X)\n",
    "valid_data_X = valid_data_X.reshape((valid_data_X.shape[0],1,valid_data_X.shape[1]))"
   ]
  },
  {
   "cell_type": "code",
   "execution_count": 63,
   "id": "fe7ef446-841f-4896-9f7e-4ee7e4738824",
   "metadata": {},
   "outputs": [
    {
     "name": "stdout",
     "output_type": "stream",
     "text": [
      "1702/1702 [==============================] - 4s 2ms/step\n"
     ]
    },
    {
     "ename": "ValueError",
     "evalue": "y contains previously unseen labels: [7 8]",
     "output_type": "error",
     "traceback": [
      "\u001b[1;31m---------------------------------------------------------------------------\u001b[0m",
      "\u001b[1;31mValueError\u001b[0m                                Traceback (most recent call last)",
      "Cell \u001b[1;32mIn[63], line 9\u001b[0m\n\u001b[0;32m      5\u001b[0m predicted_classes \u001b[38;5;241m=\u001b[39m np\u001b[38;5;241m.\u001b[39margmax(predictions, axis\u001b[38;5;241m=\u001b[39m\u001b[38;5;241m1\u001b[39m)  \u001b[38;5;66;03m# For multi-class classification\u001b[39;00m\n\u001b[0;32m      6\u001b[0m \u001b[38;5;66;03m# For binary classification, you might use a threshold like 0.5 to convert probabilities to 0 or 1\u001b[39;00m\n\u001b[0;32m      7\u001b[0m \n\u001b[0;32m      8\u001b[0m \u001b[38;5;66;03m# If you used label encoding, convert the numerical labels back to original labels\u001b[39;00m\n\u001b[1;32m----> 9\u001b[0m predicted_labels \u001b[38;5;241m=\u001b[39m \u001b[43mle_EW\u001b[49m\u001b[38;5;241;43m.\u001b[39;49m\u001b[43minverse_transform\u001b[49m\u001b[43m(\u001b[49m\u001b[43mpredicted_classes\u001b[49m\u001b[43m)\u001b[49m\n",
      "File \u001b[1;32mD:\\Miniconda\\envs\\SPLID\\lib\\site-packages\\sklearn\\preprocessing\\_label.py:160\u001b[0m, in \u001b[0;36mLabelEncoder.inverse_transform\u001b[1;34m(self, y)\u001b[0m\n\u001b[0;32m    158\u001b[0m diff \u001b[38;5;241m=\u001b[39m np\u001b[38;5;241m.\u001b[39msetdiff1d(y, np\u001b[38;5;241m.\u001b[39marange(\u001b[38;5;28mlen\u001b[39m(\u001b[38;5;28mself\u001b[39m\u001b[38;5;241m.\u001b[39mclasses_)))\n\u001b[0;32m    159\u001b[0m \u001b[38;5;28;01mif\u001b[39;00m \u001b[38;5;28mlen\u001b[39m(diff):\n\u001b[1;32m--> 160\u001b[0m     \u001b[38;5;28;01mraise\u001b[39;00m \u001b[38;5;167;01mValueError\u001b[39;00m(\u001b[38;5;124m\"\u001b[39m\u001b[38;5;124my contains previously unseen labels: \u001b[39m\u001b[38;5;132;01m%s\u001b[39;00m\u001b[38;5;124m\"\u001b[39m \u001b[38;5;241m%\u001b[39m \u001b[38;5;28mstr\u001b[39m(diff))\n\u001b[0;32m    161\u001b[0m y \u001b[38;5;241m=\u001b[39m np\u001b[38;5;241m.\u001b[39masarray(y)\n\u001b[0;32m    162\u001b[0m \u001b[38;5;28;01mreturn\u001b[39;00m \u001b[38;5;28mself\u001b[39m\u001b[38;5;241m.\u001b[39mclasses_[y]\n",
      "\u001b[1;31mValueError\u001b[0m: y contains previously unseen labels: [7 8]"
     ]
    }
   ],
   "source": [
    "# Make predictions\n",
    "predictions = EW_model.predict(valid_data_X)\n",
    "\n",
    "# If it's a classification model, convert probabilities to class labels\n",
    "predicted_classes = np.argmax(predictions, axis=1)  # For multi-class classification\n",
    "# For binary classification, you might use a threshold like 0.5 to convert probabilities to 0 or 1\n",
    "\n",
    "# If you used label encoding, convert the numerical labels back to original labels\n",
    "predicted_labels = le_EW.inverse_transform(predicted_classes)\n"
   ]
  },
  {
   "cell_type": "code",
   "execution_count": 69,
   "id": "e2a2652b-85aa-441b-b747-21ce2ddc1740",
   "metadata": {},
   "outputs": [
    {
     "data": {
      "text/plain": [
       "array([8, 8, 8, ..., 5, 2, 0], dtype=int64)"
      ]
     },
     "execution_count": 69,
     "metadata": {},
     "output_type": "execute_result"
    }
   ],
   "source": [
    "predicted_classes"
   ]
  },
  {
   "cell_type": "code",
   "execution_count": null,
   "id": "b82e027f-241d-47bb-ba3f-70dcf9bd1cb1",
   "metadata": {},
   "outputs": [],
   "source": []
  }
 ],
 "metadata": {
  "kernelspec": {
   "display_name": "Python 3 (ipykernel)",
   "language": "python",
   "name": "python3"
  },
  "language_info": {
   "codemirror_mode": {
    "name": "ipython",
    "version": 3
   },
   "file_extension": ".py",
   "mimetype": "text/x-python",
   "name": "python",
   "nbconvert_exporter": "python",
   "pygments_lexer": "ipython3",
   "version": "3.10.13"
  }
 },
 "nbformat": 4,
 "nbformat_minor": 5
}
